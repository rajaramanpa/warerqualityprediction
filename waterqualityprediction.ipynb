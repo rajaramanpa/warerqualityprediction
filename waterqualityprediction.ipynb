{
  "metadata": {
    "kernelspec": {
      "name": "python",
      "display_name": "Python (Pyodide)",
      "language": "python"
    },
    "language_info": {
      "codemirror_mode": {
        "name": "python",
        "version": 3
      },
      "file_extension": ".py",
      "mimetype": "text/x-python",
      "name": "python",
      "nbconvert_exporter": "python",
      "pygments_lexer": "ipython3",
      "version": "3.8"
    }
  },
  "nbformat_minor": 5,
  "nbformat": 4,
  "cells": [
    {
      "id": "41bdd9e2-b020-4788-9280-29a9a134f143",
      "cell_type": "code",
      "source": "pip install pandas numpy matplotlib seaborn scikit-learn",
      "metadata": {
        "trusted": true
      },
      "outputs": [
        {
          "ename": "<class 'OSError'>",
          "evalue": "Not available",
          "traceback": [
            "\u001b[0;31m---------------------------------------------------------------------------\u001b[0m",
            "\u001b[0;31mOSError\u001b[0m                                   Traceback (most recent call last)",
            "Cell \u001b[0;32mIn[1], line 1\u001b[0m\n\u001b[0;32m----> 1\u001b[0m \u001b[43mget_ipython\u001b[49m\u001b[43m(\u001b[49m\u001b[43m)\u001b[49m\u001b[38;5;241;43m.\u001b[39;49m\u001b[43mrun_line_magic\u001b[49m\u001b[43m(\u001b[49m\u001b[38;5;124;43m'\u001b[39;49m\u001b[38;5;124;43mpip\u001b[39;49m\u001b[38;5;124;43m'\u001b[39;49m\u001b[43m,\u001b[49m\u001b[43m \u001b[49m\u001b[38;5;124;43m'\u001b[39;49m\u001b[38;5;124;43minstall pandas numpy matplotlib seaborn scikit-learn\u001b[39;49m\u001b[38;5;124;43m'\u001b[39;49m\u001b[43m)\u001b[49m\n",
            "File \u001b[0;32m/lib/python3.12/site-packages/IPython/core/interactiveshell.py:2480\u001b[0m, in \u001b[0;36mInteractiveShell.run_line_magic\u001b[0;34m(self, magic_name, line, _stack_depth)\u001b[0m\n\u001b[1;32m   2478\u001b[0m     kwargs[\u001b[38;5;124m'\u001b[39m\u001b[38;5;124mlocal_ns\u001b[39m\u001b[38;5;124m'\u001b[39m] \u001b[38;5;241m=\u001b[39m \u001b[38;5;28mself\u001b[39m\u001b[38;5;241m.\u001b[39mget_local_scope(stack_depth)\n\u001b[1;32m   2479\u001b[0m \u001b[38;5;28;01mwith\u001b[39;00m \u001b[38;5;28mself\u001b[39m\u001b[38;5;241m.\u001b[39mbuiltin_trap:\n\u001b[0;32m-> 2480\u001b[0m     result \u001b[38;5;241m=\u001b[39m \u001b[43mfn\u001b[49m\u001b[43m(\u001b[49m\u001b[38;5;241;43m*\u001b[39;49m\u001b[43margs\u001b[49m\u001b[43m,\u001b[49m\u001b[43m \u001b[49m\u001b[38;5;241;43m*\u001b[39;49m\u001b[38;5;241;43m*\u001b[39;49m\u001b[43mkwargs\u001b[49m\u001b[43m)\u001b[49m\n\u001b[1;32m   2482\u001b[0m \u001b[38;5;66;03m# The code below prevents the output from being displayed\u001b[39;00m\n\u001b[1;32m   2483\u001b[0m \u001b[38;5;66;03m# when using magics with decorator @output_can_be_silenced\u001b[39;00m\n\u001b[1;32m   2484\u001b[0m \u001b[38;5;66;03m# when the last Python token in the expression is a ';'.\u001b[39;00m\n\u001b[1;32m   2485\u001b[0m \u001b[38;5;28;01mif\u001b[39;00m \u001b[38;5;28mgetattr\u001b[39m(fn, magic\u001b[38;5;241m.\u001b[39mMAGIC_OUTPUT_CAN_BE_SILENCED, \u001b[38;5;28;01mFalse\u001b[39;00m):\n",
            "File \u001b[0;32m/lib/python3.12/site-packages/IPython/core/magics/packaging.py:92\u001b[0m, in \u001b[0;36mPackagingMagics.pip\u001b[0;34m(self, line)\u001b[0m\n\u001b[1;32m     89\u001b[0m \u001b[38;5;28;01melse\u001b[39;00m:\n\u001b[1;32m     90\u001b[0m     python \u001b[38;5;241m=\u001b[39m shlex\u001b[38;5;241m.\u001b[39mquote(python)\n\u001b[0;32m---> 92\u001b[0m \u001b[38;5;28;43mself\u001b[39;49m\u001b[38;5;241;43m.\u001b[39;49m\u001b[43mshell\u001b[49m\u001b[38;5;241;43m.\u001b[39;49m\u001b[43msystem\u001b[49m\u001b[43m(\u001b[49m\u001b[38;5;124;43m\"\u001b[39;49m\u001b[38;5;124;43m \u001b[39;49m\u001b[38;5;124;43m\"\u001b[39;49m\u001b[38;5;241;43m.\u001b[39;49m\u001b[43mjoin\u001b[49m\u001b[43m(\u001b[49m\u001b[43m[\u001b[49m\u001b[43mpython\u001b[49m\u001b[43m,\u001b[49m\u001b[43m \u001b[49m\u001b[38;5;124;43m\"\u001b[39;49m\u001b[38;5;124;43m-m\u001b[39;49m\u001b[38;5;124;43m\"\u001b[39;49m\u001b[43m,\u001b[49m\u001b[43m \u001b[49m\u001b[38;5;124;43m\"\u001b[39;49m\u001b[38;5;124;43mpip\u001b[39;49m\u001b[38;5;124;43m\"\u001b[39;49m\u001b[43m,\u001b[49m\u001b[43m \u001b[49m\u001b[43mline\u001b[49m\u001b[43m]\u001b[49m\u001b[43m)\u001b[49m\u001b[43m)\u001b[49m\n\u001b[1;32m     94\u001b[0m \u001b[38;5;28mprint\u001b[39m(\u001b[38;5;124m\"\u001b[39m\u001b[38;5;124mNote: you may need to restart the kernel to use updated packages.\u001b[39m\u001b[38;5;124m\"\u001b[39m)\n",
            "File \u001b[0;32m/lib/python3.12/site-packages/IPython/core/interactiveshell.py:2653\u001b[0m, in \u001b[0;36mInteractiveShell.system_piped\u001b[0;34m(self, cmd)\u001b[0m\n\u001b[1;32m   2648\u001b[0m     \u001b[38;5;28;01mraise\u001b[39;00m \u001b[38;5;167;01mOSError\u001b[39;00m(\u001b[38;5;124m\"\u001b[39m\u001b[38;5;124mBackground processes not supported.\u001b[39m\u001b[38;5;124m\"\u001b[39m)\n\u001b[1;32m   2650\u001b[0m \u001b[38;5;66;03m# we explicitly do NOT return the subprocess status code, because\u001b[39;00m\n\u001b[1;32m   2651\u001b[0m \u001b[38;5;66;03m# a non-None value would trigger :func:`sys.displayhook` calls.\u001b[39;00m\n\u001b[1;32m   2652\u001b[0m \u001b[38;5;66;03m# Instead, we store the exit_code in user_ns.\u001b[39;00m\n\u001b[0;32m-> 2653\u001b[0m \u001b[38;5;28mself\u001b[39m\u001b[38;5;241m.\u001b[39muser_ns[\u001b[38;5;124m'\u001b[39m\u001b[38;5;124m_exit_code\u001b[39m\u001b[38;5;124m'\u001b[39m] \u001b[38;5;241m=\u001b[39m \u001b[43msystem\u001b[49m\u001b[43m(\u001b[49m\u001b[38;5;28;43mself\u001b[39;49m\u001b[38;5;241;43m.\u001b[39;49m\u001b[43mvar_expand\u001b[49m\u001b[43m(\u001b[49m\u001b[43mcmd\u001b[49m\u001b[43m,\u001b[49m\u001b[43m \u001b[49m\u001b[43mdepth\u001b[49m\u001b[38;5;241;43m=\u001b[39;49m\u001b[38;5;241;43m1\u001b[39;49m\u001b[43m)\u001b[49m\u001b[43m)\u001b[49m\n",
            "File \u001b[0;32m/lib/python3.12/site-packages/IPython/utils/_process_emscripten.py:11\u001b[0m, in \u001b[0;36msystem\u001b[0;34m(cmd)\u001b[0m\n\u001b[1;32m     10\u001b[0m \u001b[38;5;28;01mdef\u001b[39;00m \u001b[38;5;21msystem\u001b[39m(cmd):\n\u001b[0;32m---> 11\u001b[0m     \u001b[38;5;28;01mraise\u001b[39;00m \u001b[38;5;167;01mOSError\u001b[39;00m(\u001b[38;5;124m\"\u001b[39m\u001b[38;5;124mNot available\u001b[39m\u001b[38;5;124m\"\u001b[39m)\n",
            "\u001b[0;31mOSError\u001b[0m: Not available"
          ],
          "output_type": "error"
        }
      ],
      "execution_count": 1
    },
    {
      "id": "f92a2503-a3f7-4263-a1ce-d7ec68dc49ca",
      "cell_type": "code",
      "source": "import pandas as pd\nimport numpy as np\n\nfrom sklearn.multioutput import MultiOutputRegressor\nfrom sklearn.ensemble import RandomForestRegressor\nfrom sklearn.model_selection import train_test_split\nfrom sklearn.metrics import mean_squared_error,r2_score",
      "metadata": {
        "trusted": true
      },
      "outputs": [],
      "execution_count": 4
    },
    {
      "id": "f38d2539-7856-42aa-a5f4-f16236e2c8c5",
      "cell_type": "code",
      "source": "df = pd.read_csv('PB_All_2000_2021.csv',sep=';')\ndf",
      "metadata": {
        "trusted": true
      },
      "outputs": [
        {
          "execution_count": 7,
          "output_type": "execute_result",
          "data": {
            "text/plain": "      id        date    NH4  BSK5  Suspended     O2    NO3    NO2     SO4  \\\n0      1  17.02.2000  0.330  2.77       12.0  12.30   9.50  0.057  154.00   \n1      1  11.05.2000  0.044  3.00       51.6  14.61  17.75  0.034  352.00   \n2      1  11.09.2000  0.032  2.10       24.5   9.87  13.80  0.173  416.00   \n3      1  13.12.2000  0.170  2.23       35.6  12.40  17.13  0.099  275.20   \n4      1  02.03.2001  0.000  3.03       48.8  14.69  10.00  0.065  281.60   \n...   ..         ...    ...   ...        ...    ...    ...    ...     ...   \n2856  22  06.10.2020  0.046  2.69        3.6   8.28   3.80  0.038  160.00   \n2857  22  27.10.2020  0.000  1.52        0.5  11.26   0.56  0.031  147.20   \n2858  22  03.12.2020  0.034  0.29        0.8  11.09   2.58  0.042  209.92   \n2859  22  12.01.2021  0.000  2.10        0.0  14.31   3.94  0.034  121.60   \n2860  22  10.02.2021  0.000  1.78        0.0  14.30   6.30  0.033  134.40   \n\n        PO4       CL  \n0     0.454   289.50  \n1     0.090  1792.00  \n2     0.200  2509.00  \n3     0.377  1264.00  \n4     0.134  1462.00  \n...     ...      ...  \n2856  0.726    77.85  \n2857  0.634    71.95  \n2858  0.484    61.17  \n2859  0.424    63.49  \n2860  0.582    66.31  \n\n[2861 rows x 11 columns]",
            "text/html": "<div>\n<style scoped>\n    .dataframe tbody tr th:only-of-type {\n        vertical-align: middle;\n    }\n\n    .dataframe tbody tr th {\n        vertical-align: top;\n    }\n\n    .dataframe thead th {\n        text-align: right;\n    }\n</style>\n<table border=\"1\" class=\"dataframe\">\n  <thead>\n    <tr style=\"text-align: right;\">\n      <th></th>\n      <th>id</th>\n      <th>date</th>\n      <th>NH4</th>\n      <th>BSK5</th>\n      <th>Suspended</th>\n      <th>O2</th>\n      <th>NO3</th>\n      <th>NO2</th>\n      <th>SO4</th>\n      <th>PO4</th>\n      <th>CL</th>\n    </tr>\n  </thead>\n  <tbody>\n    <tr>\n      <th>0</th>\n      <td>1</td>\n      <td>17.02.2000</td>\n      <td>0.330</td>\n      <td>2.77</td>\n      <td>12.0</td>\n      <td>12.30</td>\n      <td>9.50</td>\n      <td>0.057</td>\n      <td>154.00</td>\n      <td>0.454</td>\n      <td>289.50</td>\n    </tr>\n    <tr>\n      <th>1</th>\n      <td>1</td>\n      <td>11.05.2000</td>\n      <td>0.044</td>\n      <td>3.00</td>\n      <td>51.6</td>\n      <td>14.61</td>\n      <td>17.75</td>\n      <td>0.034</td>\n      <td>352.00</td>\n      <td>0.090</td>\n      <td>1792.00</td>\n    </tr>\n    <tr>\n      <th>2</th>\n      <td>1</td>\n      <td>11.09.2000</td>\n      <td>0.032</td>\n      <td>2.10</td>\n      <td>24.5</td>\n      <td>9.87</td>\n      <td>13.80</td>\n      <td>0.173</td>\n      <td>416.00</td>\n      <td>0.200</td>\n      <td>2509.00</td>\n    </tr>\n    <tr>\n      <th>3</th>\n      <td>1</td>\n      <td>13.12.2000</td>\n      <td>0.170</td>\n      <td>2.23</td>\n      <td>35.6</td>\n      <td>12.40</td>\n      <td>17.13</td>\n      <td>0.099</td>\n      <td>275.20</td>\n      <td>0.377</td>\n      <td>1264.00</td>\n    </tr>\n    <tr>\n      <th>4</th>\n      <td>1</td>\n      <td>02.03.2001</td>\n      <td>0.000</td>\n      <td>3.03</td>\n      <td>48.8</td>\n      <td>14.69</td>\n      <td>10.00</td>\n      <td>0.065</td>\n      <td>281.60</td>\n      <td>0.134</td>\n      <td>1462.00</td>\n    </tr>\n    <tr>\n      <th>...</th>\n      <td>...</td>\n      <td>...</td>\n      <td>...</td>\n      <td>...</td>\n      <td>...</td>\n      <td>...</td>\n      <td>...</td>\n      <td>...</td>\n      <td>...</td>\n      <td>...</td>\n      <td>...</td>\n    </tr>\n    <tr>\n      <th>2856</th>\n      <td>22</td>\n      <td>06.10.2020</td>\n      <td>0.046</td>\n      <td>2.69</td>\n      <td>3.6</td>\n      <td>8.28</td>\n      <td>3.80</td>\n      <td>0.038</td>\n      <td>160.00</td>\n      <td>0.726</td>\n      <td>77.85</td>\n    </tr>\n    <tr>\n      <th>2857</th>\n      <td>22</td>\n      <td>27.10.2020</td>\n      <td>0.000</td>\n      <td>1.52</td>\n      <td>0.5</td>\n      <td>11.26</td>\n      <td>0.56</td>\n      <td>0.031</td>\n      <td>147.20</td>\n      <td>0.634</td>\n      <td>71.95</td>\n    </tr>\n    <tr>\n      <th>2858</th>\n      <td>22</td>\n      <td>03.12.2020</td>\n      <td>0.034</td>\n      <td>0.29</td>\n      <td>0.8</td>\n      <td>11.09</td>\n      <td>2.58</td>\n      <td>0.042</td>\n      <td>209.92</td>\n      <td>0.484</td>\n      <td>61.17</td>\n    </tr>\n    <tr>\n      <th>2859</th>\n      <td>22</td>\n      <td>12.01.2021</td>\n      <td>0.000</td>\n      <td>2.10</td>\n      <td>0.0</td>\n      <td>14.31</td>\n      <td>3.94</td>\n      <td>0.034</td>\n      <td>121.60</td>\n      <td>0.424</td>\n      <td>63.49</td>\n    </tr>\n    <tr>\n      <th>2860</th>\n      <td>22</td>\n      <td>10.02.2021</td>\n      <td>0.000</td>\n      <td>1.78</td>\n      <td>0.0</td>\n      <td>14.30</td>\n      <td>6.30</td>\n      <td>0.033</td>\n      <td>134.40</td>\n      <td>0.582</td>\n      <td>66.31</td>\n    </tr>\n  </tbody>\n</table>\n<p>2861 rows × 11 columns</p>\n</div>"
          },
          "metadata": {}
        }
      ],
      "execution_count": 7
    },
    {
      "id": "c2453c88-7e30-496f-820e-aa5bbd421f7c",
      "cell_type": "code",
      "source": "df.info()",
      "metadata": {
        "trusted": true
      },
      "outputs": [
        {
          "name": "stdout",
          "output_type": "stream",
          "text": "<class 'pandas.core.frame.DataFrame'>\nRangeIndex: 2861 entries, 0 to 2860\nData columns (total 11 columns):\n #   Column     Non-Null Count  Dtype  \n---  ------     --------------  -----  \n 0   id         2861 non-null   int64  \n 1   date       2861 non-null   object \n 2   NH4        2858 non-null   float64\n 3   BSK5       2860 non-null   float64\n 4   Suspended  2845 non-null   float64\n 5   O2         2858 non-null   float64\n 6   NO3        2860 non-null   float64\n 7   NO2        2858 non-null   float64\n 8   SO4        2812 non-null   float64\n 9   PO4        2833 non-null   float64\n 10  CL         2812 non-null   float64\ndtypes: float64(9), int64(1), object(1)\nmemory usage: 234.8+ KB\n"
        }
      ],
      "execution_count": 8
    },
    {
      "id": "8193dc57-0269-4100-87b7-77a27a9ce0dc",
      "cell_type": "code",
      "source": "df.shape",
      "metadata": {
        "trusted": true
      },
      "outputs": [
        {
          "execution_count": 9,
          "output_type": "execute_result",
          "data": {
            "text/plain": "(2861, 11)"
          },
          "metadata": {}
        }
      ],
      "execution_count": 9
    },
    {
      "id": "b05ed479-23a9-4c19-969c-b42851e23a3e",
      "cell_type": "code",
      "source": "df.describe().T",
      "metadata": {
        "trusted": true
      },
      "outputs": [
        {
          "execution_count": 10,
          "output_type": "execute_result",
          "data": {
            "text/plain": "            count       mean         std   min      25%     50%       75%  \\\nid         2861.0  12.397064    6.084226  1.00   8.0000  14.000  16.00000   \nNH4        2858.0   0.758734    2.486247  0.00   0.0800   0.220   0.50000   \nBSK5       2860.0   4.316182    2.973997  0.00   2.1600   3.800   5.80000   \nSuspended  2845.0  12.931905   16.543097  0.00   6.0000  10.000  15.00000   \nO2         2858.0   9.508902    4.428260  0.00   7.0925   8.995  11.52000   \nNO3        2860.0   4.316846    6.881188  0.00   1.3900   2.800   5.58250   \nNO2        2858.0   0.246128    2.182777  0.00   0.0300   0.059   0.12575   \nSO4        2812.0  59.362313   96.582641  0.00  27.0525  37.800  64.64000   \nPO4        2833.0   0.418626    0.771326  0.00   0.1300   0.270   0.47000   \nCL         2812.0  93.731991  394.512184  0.02  26.8000  33.900  45.60750   \n\n                max  \nid           22.000  \nNH4          39.427  \nBSK5         50.900  \nSuspended   595.000  \nO2           90.000  \nNO3         133.400  \nNO2         109.000  \nSO4        3573.400  \nPO4          13.879  \nCL         5615.280  ",
            "text/html": "<div>\n<style scoped>\n    .dataframe tbody tr th:only-of-type {\n        vertical-align: middle;\n    }\n\n    .dataframe tbody tr th {\n        vertical-align: top;\n    }\n\n    .dataframe thead th {\n        text-align: right;\n    }\n</style>\n<table border=\"1\" class=\"dataframe\">\n  <thead>\n    <tr style=\"text-align: right;\">\n      <th></th>\n      <th>count</th>\n      <th>mean</th>\n      <th>std</th>\n      <th>min</th>\n      <th>25%</th>\n      <th>50%</th>\n      <th>75%</th>\n      <th>max</th>\n    </tr>\n  </thead>\n  <tbody>\n    <tr>\n      <th>id</th>\n      <td>2861.0</td>\n      <td>12.397064</td>\n      <td>6.084226</td>\n      <td>1.00</td>\n      <td>8.0000</td>\n      <td>14.000</td>\n      <td>16.00000</td>\n      <td>22.000</td>\n    </tr>\n    <tr>\n      <th>NH4</th>\n      <td>2858.0</td>\n      <td>0.758734</td>\n      <td>2.486247</td>\n      <td>0.00</td>\n      <td>0.0800</td>\n      <td>0.220</td>\n      <td>0.50000</td>\n      <td>39.427</td>\n    </tr>\n    <tr>\n      <th>BSK5</th>\n      <td>2860.0</td>\n      <td>4.316182</td>\n      <td>2.973997</td>\n      <td>0.00</td>\n      <td>2.1600</td>\n      <td>3.800</td>\n      <td>5.80000</td>\n      <td>50.900</td>\n    </tr>\n    <tr>\n      <th>Suspended</th>\n      <td>2845.0</td>\n      <td>12.931905</td>\n      <td>16.543097</td>\n      <td>0.00</td>\n      <td>6.0000</td>\n      <td>10.000</td>\n      <td>15.00000</td>\n      <td>595.000</td>\n    </tr>\n    <tr>\n      <th>O2</th>\n      <td>2858.0</td>\n      <td>9.508902</td>\n      <td>4.428260</td>\n      <td>0.00</td>\n      <td>7.0925</td>\n      <td>8.995</td>\n      <td>11.52000</td>\n      <td>90.000</td>\n    </tr>\n    <tr>\n      <th>NO3</th>\n      <td>2860.0</td>\n      <td>4.316846</td>\n      <td>6.881188</td>\n      <td>0.00</td>\n      <td>1.3900</td>\n      <td>2.800</td>\n      <td>5.58250</td>\n      <td>133.400</td>\n    </tr>\n    <tr>\n      <th>NO2</th>\n      <td>2858.0</td>\n      <td>0.246128</td>\n      <td>2.182777</td>\n      <td>0.00</td>\n      <td>0.0300</td>\n      <td>0.059</td>\n      <td>0.12575</td>\n      <td>109.000</td>\n    </tr>\n    <tr>\n      <th>SO4</th>\n      <td>2812.0</td>\n      <td>59.362313</td>\n      <td>96.582641</td>\n      <td>0.00</td>\n      <td>27.0525</td>\n      <td>37.800</td>\n      <td>64.64000</td>\n      <td>3573.400</td>\n    </tr>\n    <tr>\n      <th>PO4</th>\n      <td>2833.0</td>\n      <td>0.418626</td>\n      <td>0.771326</td>\n      <td>0.00</td>\n      <td>0.1300</td>\n      <td>0.270</td>\n      <td>0.47000</td>\n      <td>13.879</td>\n    </tr>\n    <tr>\n      <th>CL</th>\n      <td>2812.0</td>\n      <td>93.731991</td>\n      <td>394.512184</td>\n      <td>0.02</td>\n      <td>26.8000</td>\n      <td>33.900</td>\n      <td>45.60750</td>\n      <td>5615.280</td>\n    </tr>\n  </tbody>\n</table>\n</div>"
          },
          "metadata": {}
        }
      ],
      "execution_count": 10
    },
    {
      "id": "496d0355-3b97-48f7-bc42-81f2adfdd8fb",
      "cell_type": "code",
      "source": " df.isnull().sum()",
      "metadata": {
        "trusted": true
      },
      "outputs": [
        {
          "execution_count": 11,
          "output_type": "execute_result",
          "data": {
            "text/plain": "id            0\ndate          0\nNH4           3\nBSK5          1\nSuspended    16\nO2            3\nNO3           1\nNO2           3\nSO4          49\nPO4          28\nCL           49\ndtype: int64"
          },
          "metadata": {}
        }
      ],
      "execution_count": 11
    },
    {
      "id": "f9f73809-f5a4-4e1d-9da5-a8ccc331ec16",
      "cell_type": "code",
      "source": "df['date']=pd.to_datetime(df['date'],format='%d.%m.%Y')\ndf",
      "metadata": {
        "trusted": true
      },
      "outputs": [
        {
          "execution_count": 13,
          "output_type": "execute_result",
          "data": {
            "text/plain": "      id       date    NH4  BSK5  Suspended     O2    NO3    NO2     SO4  \\\n0      1 2000-02-17  0.330  2.77       12.0  12.30   9.50  0.057  154.00   \n1      1 2000-05-11  0.044  3.00       51.6  14.61  17.75  0.034  352.00   \n2      1 2000-09-11  0.032  2.10       24.5   9.87  13.80  0.173  416.00   \n3      1 2000-12-13  0.170  2.23       35.6  12.40  17.13  0.099  275.20   \n4      1 2001-03-02  0.000  3.03       48.8  14.69  10.00  0.065  281.60   \n...   ..        ...    ...   ...        ...    ...    ...    ...     ...   \n2856  22 2020-10-06  0.046  2.69        3.6   8.28   3.80  0.038  160.00   \n2857  22 2020-10-27  0.000  1.52        0.5  11.26   0.56  0.031  147.20   \n2858  22 2020-12-03  0.034  0.29        0.8  11.09   2.58  0.042  209.92   \n2859  22 2021-01-12  0.000  2.10        0.0  14.31   3.94  0.034  121.60   \n2860  22 2021-02-10  0.000  1.78        0.0  14.30   6.30  0.033  134.40   \n\n        PO4       CL  \n0     0.454   289.50  \n1     0.090  1792.00  \n2     0.200  2509.00  \n3     0.377  1264.00  \n4     0.134  1462.00  \n...     ...      ...  \n2856  0.726    77.85  \n2857  0.634    71.95  \n2858  0.484    61.17  \n2859  0.424    63.49  \n2860  0.582    66.31  \n\n[2861 rows x 11 columns]",
            "text/html": "<div>\n<style scoped>\n    .dataframe tbody tr th:only-of-type {\n        vertical-align: middle;\n    }\n\n    .dataframe tbody tr th {\n        vertical-align: top;\n    }\n\n    .dataframe thead th {\n        text-align: right;\n    }\n</style>\n<table border=\"1\" class=\"dataframe\">\n  <thead>\n    <tr style=\"text-align: right;\">\n      <th></th>\n      <th>id</th>\n      <th>date</th>\n      <th>NH4</th>\n      <th>BSK5</th>\n      <th>Suspended</th>\n      <th>O2</th>\n      <th>NO3</th>\n      <th>NO2</th>\n      <th>SO4</th>\n      <th>PO4</th>\n      <th>CL</th>\n    </tr>\n  </thead>\n  <tbody>\n    <tr>\n      <th>0</th>\n      <td>1</td>\n      <td>2000-02-17</td>\n      <td>0.330</td>\n      <td>2.77</td>\n      <td>12.0</td>\n      <td>12.30</td>\n      <td>9.50</td>\n      <td>0.057</td>\n      <td>154.00</td>\n      <td>0.454</td>\n      <td>289.50</td>\n    </tr>\n    <tr>\n      <th>1</th>\n      <td>1</td>\n      <td>2000-05-11</td>\n      <td>0.044</td>\n      <td>3.00</td>\n      <td>51.6</td>\n      <td>14.61</td>\n      <td>17.75</td>\n      <td>0.034</td>\n      <td>352.00</td>\n      <td>0.090</td>\n      <td>1792.00</td>\n    </tr>\n    <tr>\n      <th>2</th>\n      <td>1</td>\n      <td>2000-09-11</td>\n      <td>0.032</td>\n      <td>2.10</td>\n      <td>24.5</td>\n      <td>9.87</td>\n      <td>13.80</td>\n      <td>0.173</td>\n      <td>416.00</td>\n      <td>0.200</td>\n      <td>2509.00</td>\n    </tr>\n    <tr>\n      <th>3</th>\n      <td>1</td>\n      <td>2000-12-13</td>\n      <td>0.170</td>\n      <td>2.23</td>\n      <td>35.6</td>\n      <td>12.40</td>\n      <td>17.13</td>\n      <td>0.099</td>\n      <td>275.20</td>\n      <td>0.377</td>\n      <td>1264.00</td>\n    </tr>\n    <tr>\n      <th>4</th>\n      <td>1</td>\n      <td>2001-03-02</td>\n      <td>0.000</td>\n      <td>3.03</td>\n      <td>48.8</td>\n      <td>14.69</td>\n      <td>10.00</td>\n      <td>0.065</td>\n      <td>281.60</td>\n      <td>0.134</td>\n      <td>1462.00</td>\n    </tr>\n    <tr>\n      <th>...</th>\n      <td>...</td>\n      <td>...</td>\n      <td>...</td>\n      <td>...</td>\n      <td>...</td>\n      <td>...</td>\n      <td>...</td>\n      <td>...</td>\n      <td>...</td>\n      <td>...</td>\n      <td>...</td>\n    </tr>\n    <tr>\n      <th>2856</th>\n      <td>22</td>\n      <td>2020-10-06</td>\n      <td>0.046</td>\n      <td>2.69</td>\n      <td>3.6</td>\n      <td>8.28</td>\n      <td>3.80</td>\n      <td>0.038</td>\n      <td>160.00</td>\n      <td>0.726</td>\n      <td>77.85</td>\n    </tr>\n    <tr>\n      <th>2857</th>\n      <td>22</td>\n      <td>2020-10-27</td>\n      <td>0.000</td>\n      <td>1.52</td>\n      <td>0.5</td>\n      <td>11.26</td>\n      <td>0.56</td>\n      <td>0.031</td>\n      <td>147.20</td>\n      <td>0.634</td>\n      <td>71.95</td>\n    </tr>\n    <tr>\n      <th>2858</th>\n      <td>22</td>\n      <td>2020-12-03</td>\n      <td>0.034</td>\n      <td>0.29</td>\n      <td>0.8</td>\n      <td>11.09</td>\n      <td>2.58</td>\n      <td>0.042</td>\n      <td>209.92</td>\n      <td>0.484</td>\n      <td>61.17</td>\n    </tr>\n    <tr>\n      <th>2859</th>\n      <td>22</td>\n      <td>2021-01-12</td>\n      <td>0.000</td>\n      <td>2.10</td>\n      <td>0.0</td>\n      <td>14.31</td>\n      <td>3.94</td>\n      <td>0.034</td>\n      <td>121.60</td>\n      <td>0.424</td>\n      <td>63.49</td>\n    </tr>\n    <tr>\n      <th>2860</th>\n      <td>22</td>\n      <td>2021-02-10</td>\n      <td>0.000</td>\n      <td>1.78</td>\n      <td>0.0</td>\n      <td>14.30</td>\n      <td>6.30</td>\n      <td>0.033</td>\n      <td>134.40</td>\n      <td>0.582</td>\n      <td>66.31</td>\n    </tr>\n  </tbody>\n</table>\n<p>2861 rows × 11 columns</p>\n</div>"
          },
          "metadata": {}
        }
      ],
      "execution_count": 13
    },
    {
      "id": "34aa177c-e39b-4a33-9715-46df94cd74b3",
      "cell_type": "code",
      "source": "df=df.sort_values(by=['id','date'])\ndf.head()",
      "metadata": {
        "trusted": true
      },
      "outputs": [
        {
          "execution_count": 15,
          "output_type": "execute_result",
          "data": {
            "text/plain": "   id       date    NH4  BSK5  Suspended     O2    NO3    NO2    SO4    PO4  \\\n0   1 2000-02-17  0.330  2.77       12.0  12.30   9.50  0.057  154.0  0.454   \n1   1 2000-05-11  0.044  3.00       51.6  14.61  17.75  0.034  352.0  0.090   \n2   1 2000-09-11  0.032  2.10       24.5   9.87  13.80  0.173  416.0  0.200   \n3   1 2000-12-13  0.170  2.23       35.6  12.40  17.13  0.099  275.2  0.377   \n4   1 2001-03-02  0.000  3.03       48.8  14.69  10.00  0.065  281.6  0.134   \n\n       CL  \n0   289.5  \n1  1792.0  \n2  2509.0  \n3  1264.0  \n4  1462.0  ",
            "text/html": "<div>\n<style scoped>\n    .dataframe tbody tr th:only-of-type {\n        vertical-align: middle;\n    }\n\n    .dataframe tbody tr th {\n        vertical-align: top;\n    }\n\n    .dataframe thead th {\n        text-align: right;\n    }\n</style>\n<table border=\"1\" class=\"dataframe\">\n  <thead>\n    <tr style=\"text-align: right;\">\n      <th></th>\n      <th>id</th>\n      <th>date</th>\n      <th>NH4</th>\n      <th>BSK5</th>\n      <th>Suspended</th>\n      <th>O2</th>\n      <th>NO3</th>\n      <th>NO2</th>\n      <th>SO4</th>\n      <th>PO4</th>\n      <th>CL</th>\n    </tr>\n  </thead>\n  <tbody>\n    <tr>\n      <th>0</th>\n      <td>1</td>\n      <td>2000-02-17</td>\n      <td>0.330</td>\n      <td>2.77</td>\n      <td>12.0</td>\n      <td>12.30</td>\n      <td>9.50</td>\n      <td>0.057</td>\n      <td>154.0</td>\n      <td>0.454</td>\n      <td>289.5</td>\n    </tr>\n    <tr>\n      <th>1</th>\n      <td>1</td>\n      <td>2000-05-11</td>\n      <td>0.044</td>\n      <td>3.00</td>\n      <td>51.6</td>\n      <td>14.61</td>\n      <td>17.75</td>\n      <td>0.034</td>\n      <td>352.0</td>\n      <td>0.090</td>\n      <td>1792.0</td>\n    </tr>\n    <tr>\n      <th>2</th>\n      <td>1</td>\n      <td>2000-09-11</td>\n      <td>0.032</td>\n      <td>2.10</td>\n      <td>24.5</td>\n      <td>9.87</td>\n      <td>13.80</td>\n      <td>0.173</td>\n      <td>416.0</td>\n      <td>0.200</td>\n      <td>2509.0</td>\n    </tr>\n    <tr>\n      <th>3</th>\n      <td>1</td>\n      <td>2000-12-13</td>\n      <td>0.170</td>\n      <td>2.23</td>\n      <td>35.6</td>\n      <td>12.40</td>\n      <td>17.13</td>\n      <td>0.099</td>\n      <td>275.2</td>\n      <td>0.377</td>\n      <td>1264.0</td>\n    </tr>\n    <tr>\n      <th>4</th>\n      <td>1</td>\n      <td>2001-03-02</td>\n      <td>0.000</td>\n      <td>3.03</td>\n      <td>48.8</td>\n      <td>14.69</td>\n      <td>10.00</td>\n      <td>0.065</td>\n      <td>281.6</td>\n      <td>0.134</td>\n      <td>1462.0</td>\n    </tr>\n  </tbody>\n</table>\n</div>"
          },
          "metadata": {}
        }
      ],
      "execution_count": 15
    },
    {
      "id": "7e5e335b-2798-47bf-878b-90eddeda4267",
      "cell_type": "code",
      "source": "df['year']=df['date'].dt.year\ndf['month']=df['date'].dt.month\ndf.head()",
      "metadata": {
        "trusted": true
      },
      "outputs": [
        {
          "execution_count": 16,
          "output_type": "execute_result",
          "data": {
            "text/plain": "   id       date    NH4  BSK5  Suspended     O2    NO3    NO2    SO4    PO4  \\\n0   1 2000-02-17  0.330  2.77       12.0  12.30   9.50  0.057  154.0  0.454   \n1   1 2000-05-11  0.044  3.00       51.6  14.61  17.75  0.034  352.0  0.090   \n2   1 2000-09-11  0.032  2.10       24.5   9.87  13.80  0.173  416.0  0.200   \n3   1 2000-12-13  0.170  2.23       35.6  12.40  17.13  0.099  275.2  0.377   \n4   1 2001-03-02  0.000  3.03       48.8  14.69  10.00  0.065  281.6  0.134   \n\n       CL  year  month  \n0   289.5  2000      2  \n1  1792.0  2000      5  \n2  2509.0  2000      9  \n3  1264.0  2000     12  \n4  1462.0  2001      3  ",
            "text/html": "<div>\n<style scoped>\n    .dataframe tbody tr th:only-of-type {\n        vertical-align: middle;\n    }\n\n    .dataframe tbody tr th {\n        vertical-align: top;\n    }\n\n    .dataframe thead th {\n        text-align: right;\n    }\n</style>\n<table border=\"1\" class=\"dataframe\">\n  <thead>\n    <tr style=\"text-align: right;\">\n      <th></th>\n      <th>id</th>\n      <th>date</th>\n      <th>NH4</th>\n      <th>BSK5</th>\n      <th>Suspended</th>\n      <th>O2</th>\n      <th>NO3</th>\n      <th>NO2</th>\n      <th>SO4</th>\n      <th>PO4</th>\n      <th>CL</th>\n      <th>year</th>\n      <th>month</th>\n    </tr>\n  </thead>\n  <tbody>\n    <tr>\n      <th>0</th>\n      <td>1</td>\n      <td>2000-02-17</td>\n      <td>0.330</td>\n      <td>2.77</td>\n      <td>12.0</td>\n      <td>12.30</td>\n      <td>9.50</td>\n      <td>0.057</td>\n      <td>154.0</td>\n      <td>0.454</td>\n      <td>289.5</td>\n      <td>2000</td>\n      <td>2</td>\n    </tr>\n    <tr>\n      <th>1</th>\n      <td>1</td>\n      <td>2000-05-11</td>\n      <td>0.044</td>\n      <td>3.00</td>\n      <td>51.6</td>\n      <td>14.61</td>\n      <td>17.75</td>\n      <td>0.034</td>\n      <td>352.0</td>\n      <td>0.090</td>\n      <td>1792.0</td>\n      <td>2000</td>\n      <td>5</td>\n    </tr>\n    <tr>\n      <th>2</th>\n      <td>1</td>\n      <td>2000-09-11</td>\n      <td>0.032</td>\n      <td>2.10</td>\n      <td>24.5</td>\n      <td>9.87</td>\n      <td>13.80</td>\n      <td>0.173</td>\n      <td>416.0</td>\n      <td>0.200</td>\n      <td>2509.0</td>\n      <td>2000</td>\n      <td>9</td>\n    </tr>\n    <tr>\n      <th>3</th>\n      <td>1</td>\n      <td>2000-12-13</td>\n      <td>0.170</td>\n      <td>2.23</td>\n      <td>35.6</td>\n      <td>12.40</td>\n      <td>17.13</td>\n      <td>0.099</td>\n      <td>275.2</td>\n      <td>0.377</td>\n      <td>1264.0</td>\n      <td>2000</td>\n      <td>12</td>\n    </tr>\n    <tr>\n      <th>4</th>\n      <td>1</td>\n      <td>2001-03-02</td>\n      <td>0.000</td>\n      <td>3.03</td>\n      <td>48.8</td>\n      <td>14.69</td>\n      <td>10.00</td>\n      <td>0.065</td>\n      <td>281.6</td>\n      <td>0.134</td>\n      <td>1462.0</td>\n      <td>2001</td>\n      <td>3</td>\n    </tr>\n  </tbody>\n</table>\n</div>"
          },
          "metadata": {}
        }
      ],
      "execution_count": 16
    },
    {
      "id": "b01d942c-e96f-4f17-9b34-5d8668122cd3",
      "cell_type": "code",
      "source": "df.columns",
      "metadata": {
        "trusted": true
      },
      "outputs": [
        {
          "ename": "<class 'NameError'>",
          "evalue": "name 'df' is not defined",
          "traceback": [
            "\u001b[0;31m---------------------------------------------------------------------------\u001b[0m",
            "\u001b[0;31mNameError\u001b[0m                                 Traceback (most recent call last)",
            "Cell \u001b[0;32mIn[2], line 1\u001b[0m\n\u001b[0;32m----> 1\u001b[0m \u001b[43mdf\u001b[49m\u001b[38;5;241m.\u001b[39mcolumns\n",
            "\u001b[0;31mNameError\u001b[0m: name 'df' is not defined"
          ],
          "output_type": "error"
        }
      ],
      "execution_count": 2
    },
    {
      "id": "c8e1a908-9a63-4dd6-a778-88f4f2fa602e",
      "cell_type": "code",
      "source": "pollutants=['NH4', 'BSK5', 'Suspended', 'O2', 'NO3', 'NO2', 'SO4',\n       'PO4', 'CL']",
      "metadata": {
        "trusted": true,
        "tags": [],
        "editable": true,
        "slideshow": {
          "slide_type": ""
        }
      },
      "outputs": [],
      "execution_count": null
    }
  ]
}