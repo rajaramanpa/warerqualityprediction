{
  "metadata": {
    "kernelspec": {
      "name": "python",
      "display_name": "Python (Pyodide)",
      "language": "python"
    },
    "language_info": {
      "codemirror_mode": {
        "name": "python",
        "version": 3
      },
      "file_extension": ".py",
      "mimetype": "text/x-python",
      "name": "python",
      "nbconvert_exporter": "python",
      "pygments_lexer": "ipython3",
      "version": "3.8"
    }
  },
  "nbformat_minor": 5,
  "nbformat": 4,
  "cells": [
    {
      "id": "178ca766-733c-4245-b3ec-4e83529da178",
      "cell_type": "markdown",
      "source": "# To install basic/necessary libraries\npip install pandas numpy matplotlib seaborn scikit-learn",
      "metadata": {}
    },
    {
      "id": "b024a389-e6d4-4e96-a75f-1d5ded1c4482",
      "cell_type": "code",
      "source": "# Import necessary libraries\nimport pandas as pd # data manipulation\nimport numpy as np # numerical python - linear algebra\n\nfrom sklearn.multioutput import MultiOutputRegressor\nfrom sklearn.ensemble import RandomForestRegressor\nfrom sklearn.model_selection import train_test_split\nfrom sklearn.metrics import mean_squared_error, r2_score",
      "metadata": {
        "trusted": true
      },
      "outputs": [],
      "execution_count": 24
    },
    {
      "id": "cbae76f5-2560-439f-b42a-7ee340766c00",
      "cell_type": "code",
      "source": "# load the dataset\ndf = pd.read_csv('PB_All_2000_2021.csv', sep=';')\ndf",
      "metadata": {
        "trusted": true
      },
      "outputs": [
        {
          "execution_count": 25,
          "output_type": "execute_result",
          "data": {
            "text/plain": "      id        date    NH4  BSK5  Suspended     O2    NO3    NO2     SO4  \\\n0      1  17.02.2000  0.330  2.77       12.0  12.30   9.50  0.057  154.00   \n1      1  11.05.2000  0.044  3.00       51.6  14.61  17.75  0.034  352.00   \n2      1  11.09.2000  0.032  2.10       24.5   9.87  13.80  0.173  416.00   \n3      1  13.12.2000  0.170  2.23       35.6  12.40  17.13  0.099  275.20   \n4      1  02.03.2001  0.000  3.03       48.8  14.69  10.00  0.065  281.60   \n...   ..         ...    ...   ...        ...    ...    ...    ...     ...   \n2856  22  06.10.2020  0.046  2.69        3.6   8.28   3.80  0.038  160.00   \n2857  22  27.10.2020  0.000  1.52        0.5  11.26   0.56  0.031  147.20   \n2858  22  03.12.2020  0.034  0.29        0.8  11.09   2.58  0.042  209.92   \n2859  22  12.01.2021  0.000  2.10        0.0  14.31   3.94  0.034  121.60   \n2860  22  10.02.2021  0.000  1.78        0.0  14.30   6.30  0.033  134.40   \n\n        PO4       CL  \n0     0.454   289.50  \n1     0.090  1792.00  \n2     0.200  2509.00  \n3     0.377  1264.00  \n4     0.134  1462.00  \n...     ...      ...  \n2856  0.726    77.85  \n2857  0.634    71.95  \n2858  0.484    61.17  \n2859  0.424    63.49  \n2860  0.582    66.31  \n\n[2861 rows x 11 columns]",
            "text/html": "<div>\n<style scoped>\n    .dataframe tbody tr th:only-of-type {\n        vertical-align: middle;\n    }\n\n    .dataframe tbody tr th {\n        vertical-align: top;\n    }\n\n    .dataframe thead th {\n        text-align: right;\n    }\n</style>\n<table border=\"1\" class=\"dataframe\">\n  <thead>\n    <tr style=\"text-align: right;\">\n      <th></th>\n      <th>id</th>\n      <th>date</th>\n      <th>NH4</th>\n      <th>BSK5</th>\n      <th>Suspended</th>\n      <th>O2</th>\n      <th>NO3</th>\n      <th>NO2</th>\n      <th>SO4</th>\n      <th>PO4</th>\n      <th>CL</th>\n    </tr>\n  </thead>\n  <tbody>\n    <tr>\n      <th>0</th>\n      <td>1</td>\n      <td>17.02.2000</td>\n      <td>0.330</td>\n      <td>2.77</td>\n      <td>12.0</td>\n      <td>12.30</td>\n      <td>9.50</td>\n      <td>0.057</td>\n      <td>154.00</td>\n      <td>0.454</td>\n      <td>289.50</td>\n    </tr>\n    <tr>\n      <th>1</th>\n      <td>1</td>\n      <td>11.05.2000</td>\n      <td>0.044</td>\n      <td>3.00</td>\n      <td>51.6</td>\n      <td>14.61</td>\n      <td>17.75</td>\n      <td>0.034</td>\n      <td>352.00</td>\n      <td>0.090</td>\n      <td>1792.00</td>\n    </tr>\n    <tr>\n      <th>2</th>\n      <td>1</td>\n      <td>11.09.2000</td>\n      <td>0.032</td>\n      <td>2.10</td>\n      <td>24.5</td>\n      <td>9.87</td>\n      <td>13.80</td>\n      <td>0.173</td>\n      <td>416.00</td>\n      <td>0.200</td>\n      <td>2509.00</td>\n    </tr>\n    <tr>\n      <th>3</th>\n      <td>1</td>\n      <td>13.12.2000</td>\n      <td>0.170</td>\n      <td>2.23</td>\n      <td>35.6</td>\n      <td>12.40</td>\n      <td>17.13</td>\n      <td>0.099</td>\n      <td>275.20</td>\n      <td>0.377</td>\n      <td>1264.00</td>\n    </tr>\n    <tr>\n      <th>4</th>\n      <td>1</td>\n      <td>02.03.2001</td>\n      <td>0.000</td>\n      <td>3.03</td>\n      <td>48.8</td>\n      <td>14.69</td>\n      <td>10.00</td>\n      <td>0.065</td>\n      <td>281.60</td>\n      <td>0.134</td>\n      <td>1462.00</td>\n    </tr>\n    <tr>\n      <th>...</th>\n      <td>...</td>\n      <td>...</td>\n      <td>...</td>\n      <td>...</td>\n      <td>...</td>\n      <td>...</td>\n      <td>...</td>\n      <td>...</td>\n      <td>...</td>\n      <td>...</td>\n      <td>...</td>\n    </tr>\n    <tr>\n      <th>2856</th>\n      <td>22</td>\n      <td>06.10.2020</td>\n      <td>0.046</td>\n      <td>2.69</td>\n      <td>3.6</td>\n      <td>8.28</td>\n      <td>3.80</td>\n      <td>0.038</td>\n      <td>160.00</td>\n      <td>0.726</td>\n      <td>77.85</td>\n    </tr>\n    <tr>\n      <th>2857</th>\n      <td>22</td>\n      <td>27.10.2020</td>\n      <td>0.000</td>\n      <td>1.52</td>\n      <td>0.5</td>\n      <td>11.26</td>\n      <td>0.56</td>\n      <td>0.031</td>\n      <td>147.20</td>\n      <td>0.634</td>\n      <td>71.95</td>\n    </tr>\n    <tr>\n      <th>2858</th>\n      <td>22</td>\n      <td>03.12.2020</td>\n      <td>0.034</td>\n      <td>0.29</td>\n      <td>0.8</td>\n      <td>11.09</td>\n      <td>2.58</td>\n      <td>0.042</td>\n      <td>209.92</td>\n      <td>0.484</td>\n      <td>61.17</td>\n    </tr>\n    <tr>\n      <th>2859</th>\n      <td>22</td>\n      <td>12.01.2021</td>\n      <td>0.000</td>\n      <td>2.10</td>\n      <td>0.0</td>\n      <td>14.31</td>\n      <td>3.94</td>\n      <td>0.034</td>\n      <td>121.60</td>\n      <td>0.424</td>\n      <td>63.49</td>\n    </tr>\n    <tr>\n      <th>2860</th>\n      <td>22</td>\n      <td>10.02.2021</td>\n      <td>0.000</td>\n      <td>1.78</td>\n      <td>0.0</td>\n      <td>14.30</td>\n      <td>6.30</td>\n      <td>0.033</td>\n      <td>134.40</td>\n      <td>0.582</td>\n      <td>66.31</td>\n    </tr>\n  </tbody>\n</table>\n<p>2861 rows × 11 columns</p>\n</div>"
          },
          "metadata": {}
        }
      ],
      "execution_count": 25
    },
    {
      "id": "f0695fd7-6929-4c69-8898-e72896900ce7",
      "cell_type": "code",
      "source": "df.info() # dataset info",
      "metadata": {
        "trusted": true
      },
      "outputs": [
        {
          "name": "stdout",
          "output_type": "stream",
          "text": "<class 'pandas.core.frame.DataFrame'>\nRangeIndex: 2861 entries, 0 to 2860\nData columns (total 11 columns):\n #   Column     Non-Null Count  Dtype  \n---  ------     --------------  -----  \n 0   id         2861 non-null   int64  \n 1   date       2861 non-null   object \n 2   NH4        2858 non-null   float64\n 3   BSK5       2860 non-null   float64\n 4   Suspended  2845 non-null   float64\n 5   O2         2858 non-null   float64\n 6   NO3        2860 non-null   float64\n 7   NO2        2858 non-null   float64\n 8   SO4        2812 non-null   float64\n 9   PO4        2833 non-null   float64\n 10  CL         2812 non-null   float64\ndtypes: float64(9), int64(1), object(1)\nmemory usage: 234.8+ KB\n"
        }
      ],
      "execution_count": 26
    },
    {
      "id": "21feb067-09f5-416b-a9a5-43b43cd8d831",
      "cell_type": "code",
      "source": "# rows and cols\ndf.shape",
      "metadata": {
        "trusted": true
      },
      "outputs": [
        {
          "execution_count": 27,
          "output_type": "execute_result",
          "data": {
            "text/plain": "(2861, 11)"
          },
          "metadata": {}
        }
      ],
      "execution_count": 27
    },
    {
      "id": "b0e2f909-3b28-4ffd-87ff-689a8ab4d14d",
      "cell_type": "code",
      "source": "# Statistics of the data\ndf.describe().T",
      "metadata": {
        "trusted": true
      },
      "outputs": [
        {
          "execution_count": 28,
          "output_type": "execute_result",
          "data": {
            "text/plain": "            count       mean         std   min      25%     50%       75%  \\\nid         2861.0  12.397064    6.084226  1.00   8.0000  14.000  16.00000   \nNH4        2858.0   0.758734    2.486247  0.00   0.0800   0.220   0.50000   \nBSK5       2860.0   4.316182    2.973997  0.00   2.1600   3.800   5.80000   \nSuspended  2845.0  12.931905   16.543097  0.00   6.0000  10.000  15.00000   \nO2         2858.0   9.508902    4.428260  0.00   7.0925   8.995  11.52000   \nNO3        2860.0   4.316846    6.881188  0.00   1.3900   2.800   5.58250   \nNO2        2858.0   0.246128    2.182777  0.00   0.0300   0.059   0.12575   \nSO4        2812.0  59.362313   96.582641  0.00  27.0525  37.800  64.64000   \nPO4        2833.0   0.418626    0.771326  0.00   0.1300   0.270   0.47000   \nCL         2812.0  93.731991  394.512184  0.02  26.8000  33.900  45.60750   \n\n                max  \nid           22.000  \nNH4          39.427  \nBSK5         50.900  \nSuspended   595.000  \nO2           90.000  \nNO3         133.400  \nNO2         109.000  \nSO4        3573.400  \nPO4          13.879  \nCL         5615.280  ",
            "text/html": "<div>\n<style scoped>\n    .dataframe tbody tr th:only-of-type {\n        vertical-align: middle;\n    }\n\n    .dataframe tbody tr th {\n        vertical-align: top;\n    }\n\n    .dataframe thead th {\n        text-align: right;\n    }\n</style>\n<table border=\"1\" class=\"dataframe\">\n  <thead>\n    <tr style=\"text-align: right;\">\n      <th></th>\n      <th>count</th>\n      <th>mean</th>\n      <th>std</th>\n      <th>min</th>\n      <th>25%</th>\n      <th>50%</th>\n      <th>75%</th>\n      <th>max</th>\n    </tr>\n  </thead>\n  <tbody>\n    <tr>\n      <th>id</th>\n      <td>2861.0</td>\n      <td>12.397064</td>\n      <td>6.084226</td>\n      <td>1.00</td>\n      <td>8.0000</td>\n      <td>14.000</td>\n      <td>16.00000</td>\n      <td>22.000</td>\n    </tr>\n    <tr>\n      <th>NH4</th>\n      <td>2858.0</td>\n      <td>0.758734</td>\n      <td>2.486247</td>\n      <td>0.00</td>\n      <td>0.0800</td>\n      <td>0.220</td>\n      <td>0.50000</td>\n      <td>39.427</td>\n    </tr>\n    <tr>\n      <th>BSK5</th>\n      <td>2860.0</td>\n      <td>4.316182</td>\n      <td>2.973997</td>\n      <td>0.00</td>\n      <td>2.1600</td>\n      <td>3.800</td>\n      <td>5.80000</td>\n      <td>50.900</td>\n    </tr>\n    <tr>\n      <th>Suspended</th>\n      <td>2845.0</td>\n      <td>12.931905</td>\n      <td>16.543097</td>\n      <td>0.00</td>\n      <td>6.0000</td>\n      <td>10.000</td>\n      <td>15.00000</td>\n      <td>595.000</td>\n    </tr>\n    <tr>\n      <th>O2</th>\n      <td>2858.0</td>\n      <td>9.508902</td>\n      <td>4.428260</td>\n      <td>0.00</td>\n      <td>7.0925</td>\n      <td>8.995</td>\n      <td>11.52000</td>\n      <td>90.000</td>\n    </tr>\n    <tr>\n      <th>NO3</th>\n      <td>2860.0</td>\n      <td>4.316846</td>\n      <td>6.881188</td>\n      <td>0.00</td>\n      <td>1.3900</td>\n      <td>2.800</td>\n      <td>5.58250</td>\n      <td>133.400</td>\n    </tr>\n    <tr>\n      <th>NO2</th>\n      <td>2858.0</td>\n      <td>0.246128</td>\n      <td>2.182777</td>\n      <td>0.00</td>\n      <td>0.0300</td>\n      <td>0.059</td>\n      <td>0.12575</td>\n      <td>109.000</td>\n    </tr>\n    <tr>\n      <th>SO4</th>\n      <td>2812.0</td>\n      <td>59.362313</td>\n      <td>96.582641</td>\n      <td>0.00</td>\n      <td>27.0525</td>\n      <td>37.800</td>\n      <td>64.64000</td>\n      <td>3573.400</td>\n    </tr>\n    <tr>\n      <th>PO4</th>\n      <td>2833.0</td>\n      <td>0.418626</td>\n      <td>0.771326</td>\n      <td>0.00</td>\n      <td>0.1300</td>\n      <td>0.270</td>\n      <td>0.47000</td>\n      <td>13.879</td>\n    </tr>\n    <tr>\n      <th>CL</th>\n      <td>2812.0</td>\n      <td>93.731991</td>\n      <td>394.512184</td>\n      <td>0.02</td>\n      <td>26.8000</td>\n      <td>33.900</td>\n      <td>45.60750</td>\n      <td>5615.280</td>\n    </tr>\n  </tbody>\n</table>\n</div>"
          },
          "metadata": {}
        }
      ],
      "execution_count": 28
    },
    {
      "id": "5f39d8e1-2f68-478f-8d64-838bcdbd2bb3",
      "cell_type": "code",
      "source": "# Missing values\ndf.isnull().sum()",
      "metadata": {
        "trusted": true
      },
      "outputs": [
        {
          "execution_count": 29,
          "output_type": "execute_result",
          "data": {
            "text/plain": "id            0\ndate          0\nNH4           3\nBSK5          1\nSuspended    16\nO2            3\nNO3           1\nNO2           3\nSO4          49\nPO4          28\nCL           49\ndtype: int64"
          },
          "metadata": {}
        }
      ],
      "execution_count": 29
    },
    {
      "id": "d146fdb3-998c-461a-84d5-b45af90dffe0",
      "cell_type": "code",
      "source": "# date is in object - date format\ndf['date'] = pd.to_datetime(df['date'], format='%d.%m.%Y')\ndf",
      "metadata": {
        "trusted": true
      },
      "outputs": [
        {
          "execution_count": 30,
          "output_type": "execute_result",
          "data": {
            "text/plain": "      id       date    NH4  BSK5  Suspended     O2    NO3    NO2     SO4  \\\n0      1 2000-02-17  0.330  2.77       12.0  12.30   9.50  0.057  154.00   \n1      1 2000-05-11  0.044  3.00       51.6  14.61  17.75  0.034  352.00   \n2      1 2000-09-11  0.032  2.10       24.5   9.87  13.80  0.173  416.00   \n3      1 2000-12-13  0.170  2.23       35.6  12.40  17.13  0.099  275.20   \n4      1 2001-03-02  0.000  3.03       48.8  14.69  10.00  0.065  281.60   \n...   ..        ...    ...   ...        ...    ...    ...    ...     ...   \n2856  22 2020-10-06  0.046  2.69        3.6   8.28   3.80  0.038  160.00   \n2857  22 2020-10-27  0.000  1.52        0.5  11.26   0.56  0.031  147.20   \n2858  22 2020-12-03  0.034  0.29        0.8  11.09   2.58  0.042  209.92   \n2859  22 2021-01-12  0.000  2.10        0.0  14.31   3.94  0.034  121.60   \n2860  22 2021-02-10  0.000  1.78        0.0  14.30   6.30  0.033  134.40   \n\n        PO4       CL  \n0     0.454   289.50  \n1     0.090  1792.00  \n2     0.200  2509.00  \n3     0.377  1264.00  \n4     0.134  1462.00  \n...     ...      ...  \n2856  0.726    77.85  \n2857  0.634    71.95  \n2858  0.484    61.17  \n2859  0.424    63.49  \n2860  0.582    66.31  \n\n[2861 rows x 11 columns]",
            "text/html": "<div>\n<style scoped>\n    .dataframe tbody tr th:only-of-type {\n        vertical-align: middle;\n    }\n\n    .dataframe tbody tr th {\n        vertical-align: top;\n    }\n\n    .dataframe thead th {\n        text-align: right;\n    }\n</style>\n<table border=\"1\" class=\"dataframe\">\n  <thead>\n    <tr style=\"text-align: right;\">\n      <th></th>\n      <th>id</th>\n      <th>date</th>\n      <th>NH4</th>\n      <th>BSK5</th>\n      <th>Suspended</th>\n      <th>O2</th>\n      <th>NO3</th>\n      <th>NO2</th>\n      <th>SO4</th>\n      <th>PO4</th>\n      <th>CL</th>\n    </tr>\n  </thead>\n  <tbody>\n    <tr>\n      <th>0</th>\n      <td>1</td>\n      <td>2000-02-17</td>\n      <td>0.330</td>\n      <td>2.77</td>\n      <td>12.0</td>\n      <td>12.30</td>\n      <td>9.50</td>\n      <td>0.057</td>\n      <td>154.00</td>\n      <td>0.454</td>\n      <td>289.50</td>\n    </tr>\n    <tr>\n      <th>1</th>\n      <td>1</td>\n      <td>2000-05-11</td>\n      <td>0.044</td>\n      <td>3.00</td>\n      <td>51.6</td>\n      <td>14.61</td>\n      <td>17.75</td>\n      <td>0.034</td>\n      <td>352.00</td>\n      <td>0.090</td>\n      <td>1792.00</td>\n    </tr>\n    <tr>\n      <th>2</th>\n      <td>1</td>\n      <td>2000-09-11</td>\n      <td>0.032</td>\n      <td>2.10</td>\n      <td>24.5</td>\n      <td>9.87</td>\n      <td>13.80</td>\n      <td>0.173</td>\n      <td>416.00</td>\n      <td>0.200</td>\n      <td>2509.00</td>\n    </tr>\n    <tr>\n      <th>3</th>\n      <td>1</td>\n      <td>2000-12-13</td>\n      <td>0.170</td>\n      <td>2.23</td>\n      <td>35.6</td>\n      <td>12.40</td>\n      <td>17.13</td>\n      <td>0.099</td>\n      <td>275.20</td>\n      <td>0.377</td>\n      <td>1264.00</td>\n    </tr>\n    <tr>\n      <th>4</th>\n      <td>1</td>\n      <td>2001-03-02</td>\n      <td>0.000</td>\n      <td>3.03</td>\n      <td>48.8</td>\n      <td>14.69</td>\n      <td>10.00</td>\n      <td>0.065</td>\n      <td>281.60</td>\n      <td>0.134</td>\n      <td>1462.00</td>\n    </tr>\n    <tr>\n      <th>...</th>\n      <td>...</td>\n      <td>...</td>\n      <td>...</td>\n      <td>...</td>\n      <td>...</td>\n      <td>...</td>\n      <td>...</td>\n      <td>...</td>\n      <td>...</td>\n      <td>...</td>\n      <td>...</td>\n    </tr>\n    <tr>\n      <th>2856</th>\n      <td>22</td>\n      <td>2020-10-06</td>\n      <td>0.046</td>\n      <td>2.69</td>\n      <td>3.6</td>\n      <td>8.28</td>\n      <td>3.80</td>\n      <td>0.038</td>\n      <td>160.00</td>\n      <td>0.726</td>\n      <td>77.85</td>\n    </tr>\n    <tr>\n      <th>2857</th>\n      <td>22</td>\n      <td>2020-10-27</td>\n      <td>0.000</td>\n      <td>1.52</td>\n      <td>0.5</td>\n      <td>11.26</td>\n      <td>0.56</td>\n      <td>0.031</td>\n      <td>147.20</td>\n      <td>0.634</td>\n      <td>71.95</td>\n    </tr>\n    <tr>\n      <th>2858</th>\n      <td>22</td>\n      <td>2020-12-03</td>\n      <td>0.034</td>\n      <td>0.29</td>\n      <td>0.8</td>\n      <td>11.09</td>\n      <td>2.58</td>\n      <td>0.042</td>\n      <td>209.92</td>\n      <td>0.484</td>\n      <td>61.17</td>\n    </tr>\n    <tr>\n      <th>2859</th>\n      <td>22</td>\n      <td>2021-01-12</td>\n      <td>0.000</td>\n      <td>2.10</td>\n      <td>0.0</td>\n      <td>14.31</td>\n      <td>3.94</td>\n      <td>0.034</td>\n      <td>121.60</td>\n      <td>0.424</td>\n      <td>63.49</td>\n    </tr>\n    <tr>\n      <th>2860</th>\n      <td>22</td>\n      <td>2021-02-10</td>\n      <td>0.000</td>\n      <td>1.78</td>\n      <td>0.0</td>\n      <td>14.30</td>\n      <td>6.30</td>\n      <td>0.033</td>\n      <td>134.40</td>\n      <td>0.582</td>\n      <td>66.31</td>\n    </tr>\n  </tbody>\n</table>\n<p>2861 rows × 11 columns</p>\n</div>"
          },
          "metadata": {}
        }
      ],
      "execution_count": 30
    },
    {
      "id": "fa9fc0e4-e6cd-4810-a68f-3acdc76c15e4",
      "cell_type": "code",
      "source": "df.info()",
      "metadata": {
        "trusted": true
      },
      "outputs": [
        {
          "name": "stdout",
          "output_type": "stream",
          "text": "<class 'pandas.core.frame.DataFrame'>\nRangeIndex: 2861 entries, 0 to 2860\nData columns (total 11 columns):\n #   Column     Non-Null Count  Dtype         \n---  ------     --------------  -----         \n 0   id         2861 non-null   int64         \n 1   date       2861 non-null   datetime64[ns]\n 2   NH4        2858 non-null   float64       \n 3   BSK5       2860 non-null   float64       \n 4   Suspended  2845 non-null   float64       \n 5   O2         2858 non-null   float64       \n 6   NO3        2860 non-null   float64       \n 7   NO2        2858 non-null   float64       \n 8   SO4        2812 non-null   float64       \n 9   PO4        2833 non-null   float64       \n 10  CL         2812 non-null   float64       \ndtypes: datetime64[ns](1), float64(9), int64(1)\nmemory usage: 245.9 KB\n"
        }
      ],
      "execution_count": 31
    },
    {
      "id": "18b44f69-e8b2-4549-814a-a336db31fa94",
      "cell_type": "code",
      "source": "df = df.sort_values(by=['id', 'date'])\ndf.head()",
      "metadata": {
        "trusted": true
      },
      "outputs": [
        {
          "execution_count": 32,
          "output_type": "execute_result",
          "data": {
            "text/plain": "   id       date    NH4  BSK5  Suspended     O2    NO3    NO2    SO4    PO4  \\\n0   1 2000-02-17  0.330  2.77       12.0  12.30   9.50  0.057  154.0  0.454   \n1   1 2000-05-11  0.044  3.00       51.6  14.61  17.75  0.034  352.0  0.090   \n2   1 2000-09-11  0.032  2.10       24.5   9.87  13.80  0.173  416.0  0.200   \n3   1 2000-12-13  0.170  2.23       35.6  12.40  17.13  0.099  275.2  0.377   \n4   1 2001-03-02  0.000  3.03       48.8  14.69  10.00  0.065  281.6  0.134   \n\n       CL  \n0   289.5  \n1  1792.0  \n2  2509.0  \n3  1264.0  \n4  1462.0  ",
            "text/html": "<div>\n<style scoped>\n    .dataframe tbody tr th:only-of-type {\n        vertical-align: middle;\n    }\n\n    .dataframe tbody tr th {\n        vertical-align: top;\n    }\n\n    .dataframe thead th {\n        text-align: right;\n    }\n</style>\n<table border=\"1\" class=\"dataframe\">\n  <thead>\n    <tr style=\"text-align: right;\">\n      <th></th>\n      <th>id</th>\n      <th>date</th>\n      <th>NH4</th>\n      <th>BSK5</th>\n      <th>Suspended</th>\n      <th>O2</th>\n      <th>NO3</th>\n      <th>NO2</th>\n      <th>SO4</th>\n      <th>PO4</th>\n      <th>CL</th>\n    </tr>\n  </thead>\n  <tbody>\n    <tr>\n      <th>0</th>\n      <td>1</td>\n      <td>2000-02-17</td>\n      <td>0.330</td>\n      <td>2.77</td>\n      <td>12.0</td>\n      <td>12.30</td>\n      <td>9.50</td>\n      <td>0.057</td>\n      <td>154.0</td>\n      <td>0.454</td>\n      <td>289.5</td>\n    </tr>\n    <tr>\n      <th>1</th>\n      <td>1</td>\n      <td>2000-05-11</td>\n      <td>0.044</td>\n      <td>3.00</td>\n      <td>51.6</td>\n      <td>14.61</td>\n      <td>17.75</td>\n      <td>0.034</td>\n      <td>352.0</td>\n      <td>0.090</td>\n      <td>1792.0</td>\n    </tr>\n    <tr>\n      <th>2</th>\n      <td>1</td>\n      <td>2000-09-11</td>\n      <td>0.032</td>\n      <td>2.10</td>\n      <td>24.5</td>\n      <td>9.87</td>\n      <td>13.80</td>\n      <td>0.173</td>\n      <td>416.0</td>\n      <td>0.200</td>\n      <td>2509.0</td>\n    </tr>\n    <tr>\n      <th>3</th>\n      <td>1</td>\n      <td>2000-12-13</td>\n      <td>0.170</td>\n      <td>2.23</td>\n      <td>35.6</td>\n      <td>12.40</td>\n      <td>17.13</td>\n      <td>0.099</td>\n      <td>275.2</td>\n      <td>0.377</td>\n      <td>1264.0</td>\n    </tr>\n    <tr>\n      <th>4</th>\n      <td>1</td>\n      <td>2001-03-02</td>\n      <td>0.000</td>\n      <td>3.03</td>\n      <td>48.8</td>\n      <td>14.69</td>\n      <td>10.00</td>\n      <td>0.065</td>\n      <td>281.6</td>\n      <td>0.134</td>\n      <td>1462.0</td>\n    </tr>\n  </tbody>\n</table>\n</div>"
          },
          "metadata": {}
        }
      ],
      "execution_count": 32
    },
    {
      "id": "16c26fe3-9d39-47a9-80ee-b1332ecdb1aa",
      "cell_type": "code",
      "source": "df['year'] = df['date'].dt.year\ndf['month'] = df['date'].dt.month",
      "metadata": {
        "trusted": true
      },
      "outputs": [],
      "execution_count": 33
    },
    {
      "id": "2b1a6f1f-16ff-42df-b0f1-d80a55ffc38d",
      "cell_type": "code",
      "source": "df.head()",
      "metadata": {
        "trusted": true
      },
      "outputs": [
        {
          "execution_count": 34,
          "output_type": "execute_result",
          "data": {
            "text/plain": "   id       date    NH4  BSK5  Suspended     O2    NO3    NO2    SO4    PO4  \\\n0   1 2000-02-17  0.330  2.77       12.0  12.30   9.50  0.057  154.0  0.454   \n1   1 2000-05-11  0.044  3.00       51.6  14.61  17.75  0.034  352.0  0.090   \n2   1 2000-09-11  0.032  2.10       24.5   9.87  13.80  0.173  416.0  0.200   \n3   1 2000-12-13  0.170  2.23       35.6  12.40  17.13  0.099  275.2  0.377   \n4   1 2001-03-02  0.000  3.03       48.8  14.69  10.00  0.065  281.6  0.134   \n\n       CL  year  month  \n0   289.5  2000      2  \n1  1792.0  2000      5  \n2  2509.0  2000      9  \n3  1264.0  2000     12  \n4  1462.0  2001      3  ",
            "text/html": "<div>\n<style scoped>\n    .dataframe tbody tr th:only-of-type {\n        vertical-align: middle;\n    }\n\n    .dataframe tbody tr th {\n        vertical-align: top;\n    }\n\n    .dataframe thead th {\n        text-align: right;\n    }\n</style>\n<table border=\"1\" class=\"dataframe\">\n  <thead>\n    <tr style=\"text-align: right;\">\n      <th></th>\n      <th>id</th>\n      <th>date</th>\n      <th>NH4</th>\n      <th>BSK5</th>\n      <th>Suspended</th>\n      <th>O2</th>\n      <th>NO3</th>\n      <th>NO2</th>\n      <th>SO4</th>\n      <th>PO4</th>\n      <th>CL</th>\n      <th>year</th>\n      <th>month</th>\n    </tr>\n  </thead>\n  <tbody>\n    <tr>\n      <th>0</th>\n      <td>1</td>\n      <td>2000-02-17</td>\n      <td>0.330</td>\n      <td>2.77</td>\n      <td>12.0</td>\n      <td>12.30</td>\n      <td>9.50</td>\n      <td>0.057</td>\n      <td>154.0</td>\n      <td>0.454</td>\n      <td>289.5</td>\n      <td>2000</td>\n      <td>2</td>\n    </tr>\n    <tr>\n      <th>1</th>\n      <td>1</td>\n      <td>2000-05-11</td>\n      <td>0.044</td>\n      <td>3.00</td>\n      <td>51.6</td>\n      <td>14.61</td>\n      <td>17.75</td>\n      <td>0.034</td>\n      <td>352.0</td>\n      <td>0.090</td>\n      <td>1792.0</td>\n      <td>2000</td>\n      <td>5</td>\n    </tr>\n    <tr>\n      <th>2</th>\n      <td>1</td>\n      <td>2000-09-11</td>\n      <td>0.032</td>\n      <td>2.10</td>\n      <td>24.5</td>\n      <td>9.87</td>\n      <td>13.80</td>\n      <td>0.173</td>\n      <td>416.0</td>\n      <td>0.200</td>\n      <td>2509.0</td>\n      <td>2000</td>\n      <td>9</td>\n    </tr>\n    <tr>\n      <th>3</th>\n      <td>1</td>\n      <td>2000-12-13</td>\n      <td>0.170</td>\n      <td>2.23</td>\n      <td>35.6</td>\n      <td>12.40</td>\n      <td>17.13</td>\n      <td>0.099</td>\n      <td>275.2</td>\n      <td>0.377</td>\n      <td>1264.0</td>\n      <td>2000</td>\n      <td>12</td>\n    </tr>\n    <tr>\n      <th>4</th>\n      <td>1</td>\n      <td>2001-03-02</td>\n      <td>0.000</td>\n      <td>3.03</td>\n      <td>48.8</td>\n      <td>14.69</td>\n      <td>10.00</td>\n      <td>0.065</td>\n      <td>281.6</td>\n      <td>0.134</td>\n      <td>1462.0</td>\n      <td>2001</td>\n      <td>3</td>\n    </tr>\n  </tbody>\n</table>\n</div>"
          },
          "metadata": {}
        }
      ],
      "execution_count": 34
    },
    {
      "id": "26bbbce1-8326-4166-be6d-2ce00e616630",
      "cell_type": "code",
      "source": "df.columns",
      "metadata": {
        "trusted": true,
        "scrolled": true
      },
      "outputs": [
        {
          "execution_count": 35,
          "output_type": "execute_result",
          "data": {
            "text/plain": "Index(['id', 'date', 'NH4', 'BSK5', 'Suspended', 'O2', 'NO3', 'NO2', 'SO4',\n       'PO4', 'CL', 'year', 'month'],\n      dtype='object')"
          },
          "metadata": {}
        }
      ],
      "execution_count": 35
    },
    {
      "id": "297f6475-d446-4147-8d7d-63652cf84205",
      "cell_type": "code",
      "source": "pollutants = ['O2', 'NO3', 'NO2', 'SO4',\n       'PO4', 'CL']",
      "metadata": {
        "trusted": true
      },
      "outputs": [],
      "execution_count": 36
    },
    {
      "id": "99553904-1142-427b-8349-b9893a41026a",
      "cell_type": "code",
      "source": "week 2\n",
      "metadata": {
        "trusted": true
      },
      "outputs": [
        {
          "ename": "<class 'SyntaxError'>",
          "evalue": "invalid syntax (<ipython-input-37-eb0bf8068377>, line 1)",
          "traceback": [
            "\u001b[0;36m  Cell \u001b[0;32mIn[37], line 1\u001b[0;36m\u001b[0m\n\u001b[0;31m    week 2\u001b[0m\n\u001b[0m         ^\u001b[0m\n\u001b[0;31mSyntaxError\u001b[0m\u001b[0;31m:\u001b[0m invalid syntax\n"
          ],
          "output_type": "error"
        }
      ],
      "execution_count": 37
    },
    {
      "id": "74c403ca-3390-47ec-82f6-8b4fc804bb9d",
      "cell_type": "code",
      "source": "df=df.dropna(subset=pollutants)\ndf.head()",
      "metadata": {
        "trusted": true
      },
      "outputs": [
        {
          "execution_count": 38,
          "output_type": "execute_result",
          "data": {
            "text/plain": "   id       date    NH4  BSK5  Suspended     O2    NO3    NO2    SO4    PO4  \\\n0   1 2000-02-17  0.330  2.77       12.0  12.30   9.50  0.057  154.0  0.454   \n1   1 2000-05-11  0.044  3.00       51.6  14.61  17.75  0.034  352.0  0.090   \n2   1 2000-09-11  0.032  2.10       24.5   9.87  13.80  0.173  416.0  0.200   \n3   1 2000-12-13  0.170  2.23       35.6  12.40  17.13  0.099  275.2  0.377   \n4   1 2001-03-02  0.000  3.03       48.8  14.69  10.00  0.065  281.6  0.134   \n\n       CL  year  month  \n0   289.5  2000      2  \n1  1792.0  2000      5  \n2  2509.0  2000      9  \n3  1264.0  2000     12  \n4  1462.0  2001      3  ",
            "text/html": "<div>\n<style scoped>\n    .dataframe tbody tr th:only-of-type {\n        vertical-align: middle;\n    }\n\n    .dataframe tbody tr th {\n        vertical-align: top;\n    }\n\n    .dataframe thead th {\n        text-align: right;\n    }\n</style>\n<table border=\"1\" class=\"dataframe\">\n  <thead>\n    <tr style=\"text-align: right;\">\n      <th></th>\n      <th>id</th>\n      <th>date</th>\n      <th>NH4</th>\n      <th>BSK5</th>\n      <th>Suspended</th>\n      <th>O2</th>\n      <th>NO3</th>\n      <th>NO2</th>\n      <th>SO4</th>\n      <th>PO4</th>\n      <th>CL</th>\n      <th>year</th>\n      <th>month</th>\n    </tr>\n  </thead>\n  <tbody>\n    <tr>\n      <th>0</th>\n      <td>1</td>\n      <td>2000-02-17</td>\n      <td>0.330</td>\n      <td>2.77</td>\n      <td>12.0</td>\n      <td>12.30</td>\n      <td>9.50</td>\n      <td>0.057</td>\n      <td>154.0</td>\n      <td>0.454</td>\n      <td>289.5</td>\n      <td>2000</td>\n      <td>2</td>\n    </tr>\n    <tr>\n      <th>1</th>\n      <td>1</td>\n      <td>2000-05-11</td>\n      <td>0.044</td>\n      <td>3.00</td>\n      <td>51.6</td>\n      <td>14.61</td>\n      <td>17.75</td>\n      <td>0.034</td>\n      <td>352.0</td>\n      <td>0.090</td>\n      <td>1792.0</td>\n      <td>2000</td>\n      <td>5</td>\n    </tr>\n    <tr>\n      <th>2</th>\n      <td>1</td>\n      <td>2000-09-11</td>\n      <td>0.032</td>\n      <td>2.10</td>\n      <td>24.5</td>\n      <td>9.87</td>\n      <td>13.80</td>\n      <td>0.173</td>\n      <td>416.0</td>\n      <td>0.200</td>\n      <td>2509.0</td>\n      <td>2000</td>\n      <td>9</td>\n    </tr>\n    <tr>\n      <th>3</th>\n      <td>1</td>\n      <td>2000-12-13</td>\n      <td>0.170</td>\n      <td>2.23</td>\n      <td>35.6</td>\n      <td>12.40</td>\n      <td>17.13</td>\n      <td>0.099</td>\n      <td>275.2</td>\n      <td>0.377</td>\n      <td>1264.0</td>\n      <td>2000</td>\n      <td>12</td>\n    </tr>\n    <tr>\n      <th>4</th>\n      <td>1</td>\n      <td>2001-03-02</td>\n      <td>0.000</td>\n      <td>3.03</td>\n      <td>48.8</td>\n      <td>14.69</td>\n      <td>10.00</td>\n      <td>0.065</td>\n      <td>281.6</td>\n      <td>0.134</td>\n      <td>1462.0</td>\n      <td>2001</td>\n      <td>3</td>\n    </tr>\n  </tbody>\n</table>\n</div>"
          },
          "metadata": {}
        }
      ],
      "execution_count": 38
    },
    {
      "id": "1fc309ec-b688-4bfd-bf48-e7ca40cda3a1",
      "cell_type": "code",
      "source": "df.isnull().sum()",
      "metadata": {
        "trusted": true
      },
      "outputs": [
        {
          "execution_count": 39,
          "output_type": "execute_result",
          "data": {
            "text/plain": "id           0\ndate         0\nNH4          2\nBSK5         0\nSuspended    2\nO2           0\nNO3          0\nNO2          0\nSO4          0\nPO4          0\nCL           0\nyear         0\nmonth        0\ndtype: int64"
          },
          "metadata": {}
        }
      ],
      "execution_count": 39
    },
    {
      "id": "51876b6b-9e56-40bd-bb54-a9a5d6767967",
      "cell_type": "code",
      "source": "X=df[['id','year']]\ny=df[pollutants]",
      "metadata": {
        "trusted": true
      },
      "outputs": [],
      "execution_count": 40
    },
    {
      "id": "c76ae227-eeb1-42eb-a331-4e477d827d1a",
      "cell_type": "code",
      "source": "X_encoded=pd.get_dummies(X,columns=['id'],drop_first=True)",
      "metadata": {
        "trusted": true
      },
      "outputs": [],
      "execution_count": 41
    },
    {
      "id": "d13a135a-b19c-405e-a9c3-5203c1b23dfb",
      "cell_type": "code",
      "source": "X_train,X_test,y_train,y_test=train_test_split(X_encoded,y,test_size=0.2,random_state=42)",
      "metadata": {
        "trusted": true
      },
      "outputs": [],
      "execution_count": 42
    },
    {
      "id": "02d21799-877b-4651-aa20-48aaa51794ea",
      "cell_type": "code",
      "source": "model=MultiOutputRegressor(RandomForestRegressor(n_estimators=100,random_state=42))\nmodel.fit(X_train,y_train)",
      "metadata": {
        "trusted": true
      },
      "outputs": [
        {
          "execution_count": 43,
          "output_type": "execute_result",
          "data": {
            "text/plain": "MultiOutputRegressor(estimator=RandomForestRegressor(random_state=42))",
            "text/html": "<style>#sk-container-id-2 {\n  /* Definition of color scheme common for light and dark mode */\n  --sklearn-color-text: #000;\n  --sklearn-color-text-muted: #666;\n  --sklearn-color-line: gray;\n  /* Definition of color scheme for unfitted estimators */\n  --sklearn-color-unfitted-level-0: #fff5e6;\n  --sklearn-color-unfitted-level-1: #f6e4d2;\n  --sklearn-color-unfitted-level-2: #ffe0b3;\n  --sklearn-color-unfitted-level-3: chocolate;\n  /* Definition of color scheme for fitted estimators */\n  --sklearn-color-fitted-level-0: #f0f8ff;\n  --sklearn-color-fitted-level-1: #d4ebff;\n  --sklearn-color-fitted-level-2: #b3dbfd;\n  --sklearn-color-fitted-level-3: cornflowerblue;\n\n  /* Specific color for light theme */\n  --sklearn-color-text-on-default-background: var(--sg-text-color, var(--theme-code-foreground, var(--jp-content-font-color1, black)));\n  --sklearn-color-background: var(--sg-background-color, var(--theme-background, var(--jp-layout-color0, white)));\n  --sklearn-color-border-box: var(--sg-text-color, var(--theme-code-foreground, var(--jp-content-font-color1, black)));\n  --sklearn-color-icon: #696969;\n\n  @media (prefers-color-scheme: dark) {\n    /* Redefinition of color scheme for dark theme */\n    --sklearn-color-text-on-default-background: var(--sg-text-color, var(--theme-code-foreground, var(--jp-content-font-color1, white)));\n    --sklearn-color-background: var(--sg-background-color, var(--theme-background, var(--jp-layout-color0, #111)));\n    --sklearn-color-border-box: var(--sg-text-color, var(--theme-code-foreground, var(--jp-content-font-color1, white)));\n    --sklearn-color-icon: #878787;\n  }\n}\n\n#sk-container-id-2 {\n  color: var(--sklearn-color-text);\n}\n\n#sk-container-id-2 pre {\n  padding: 0;\n}\n\n#sk-container-id-2 input.sk-hidden--visually {\n  border: 0;\n  clip: rect(1px 1px 1px 1px);\n  clip: rect(1px, 1px, 1px, 1px);\n  height: 1px;\n  margin: -1px;\n  overflow: hidden;\n  padding: 0;\n  position: absolute;\n  width: 1px;\n}\n\n#sk-container-id-2 div.sk-dashed-wrapped {\n  border: 1px dashed var(--sklearn-color-line);\n  margin: 0 0.4em 0.5em 0.4em;\n  box-sizing: border-box;\n  padding-bottom: 0.4em;\n  background-color: var(--sklearn-color-background);\n}\n\n#sk-container-id-2 div.sk-container {\n  /* jupyter's `normalize.less` sets `[hidden] { display: none; }`\n     but bootstrap.min.css set `[hidden] { display: none !important; }`\n     so we also need the `!important` here to be able to override the\n     default hidden behavior on the sphinx rendered scikit-learn.org.\n     See: https://github.com/scikit-learn/scikit-learn/issues/21755 */\n  display: inline-block !important;\n  position: relative;\n}\n\n#sk-container-id-2 div.sk-text-repr-fallback {\n  display: none;\n}\n\ndiv.sk-parallel-item,\ndiv.sk-serial,\ndiv.sk-item {\n  /* draw centered vertical line to link estimators */\n  background-image: linear-gradient(var(--sklearn-color-text-on-default-background), var(--sklearn-color-text-on-default-background));\n  background-size: 2px 100%;\n  background-repeat: no-repeat;\n  background-position: center center;\n}\n\n/* Parallel-specific style estimator block */\n\n#sk-container-id-2 div.sk-parallel-item::after {\n  content: \"\";\n  width: 100%;\n  border-bottom: 2px solid var(--sklearn-color-text-on-default-background);\n  flex-grow: 1;\n}\n\n#sk-container-id-2 div.sk-parallel {\n  display: flex;\n  align-items: stretch;\n  justify-content: center;\n  background-color: var(--sklearn-color-background);\n  position: relative;\n}\n\n#sk-container-id-2 div.sk-parallel-item {\n  display: flex;\n  flex-direction: column;\n}\n\n#sk-container-id-2 div.sk-parallel-item:first-child::after {\n  align-self: flex-end;\n  width: 50%;\n}\n\n#sk-container-id-2 div.sk-parallel-item:last-child::after {\n  align-self: flex-start;\n  width: 50%;\n}\n\n#sk-container-id-2 div.sk-parallel-item:only-child::after {\n  width: 0;\n}\n\n/* Serial-specific style estimator block */\n\n#sk-container-id-2 div.sk-serial {\n  display: flex;\n  flex-direction: column;\n  align-items: center;\n  background-color: var(--sklearn-color-background);\n  padding-right: 1em;\n  padding-left: 1em;\n}\n\n\n/* Toggleable style: style used for estimator/Pipeline/ColumnTransformer box that is\nclickable and can be expanded/collapsed.\n- Pipeline and ColumnTransformer use this feature and define the default style\n- Estimators will overwrite some part of the style using the `sk-estimator` class\n*/\n\n/* Pipeline and ColumnTransformer style (default) */\n\n#sk-container-id-2 div.sk-toggleable {\n  /* Default theme specific background. It is overwritten whether we have a\n  specific estimator or a Pipeline/ColumnTransformer */\n  background-color: var(--sklearn-color-background);\n}\n\n/* Toggleable label */\n#sk-container-id-2 label.sk-toggleable__label {\n  cursor: pointer;\n  display: flex;\n  width: 100%;\n  margin-bottom: 0;\n  padding: 0.5em;\n  box-sizing: border-box;\n  text-align: center;\n  align-items: start;\n  justify-content: space-between;\n  gap: 0.5em;\n}\n\n#sk-container-id-2 label.sk-toggleable__label .caption {\n  font-size: 0.6rem;\n  font-weight: lighter;\n  color: var(--sklearn-color-text-muted);\n}\n\n#sk-container-id-2 label.sk-toggleable__label-arrow:before {\n  /* Arrow on the left of the label */\n  content: \"▸\";\n  float: left;\n  margin-right: 0.25em;\n  color: var(--sklearn-color-icon);\n}\n\n#sk-container-id-2 label.sk-toggleable__label-arrow:hover:before {\n  color: var(--sklearn-color-text);\n}\n\n/* Toggleable content - dropdown */\n\n#sk-container-id-2 div.sk-toggleable__content {\n  max-height: 0;\n  max-width: 0;\n  overflow: hidden;\n  text-align: left;\n  /* unfitted */\n  background-color: var(--sklearn-color-unfitted-level-0);\n}\n\n#sk-container-id-2 div.sk-toggleable__content.fitted {\n  /* fitted */\n  background-color: var(--sklearn-color-fitted-level-0);\n}\n\n#sk-container-id-2 div.sk-toggleable__content pre {\n  margin: 0.2em;\n  border-radius: 0.25em;\n  color: var(--sklearn-color-text);\n  /* unfitted */\n  background-color: var(--sklearn-color-unfitted-level-0);\n}\n\n#sk-container-id-2 div.sk-toggleable__content.fitted pre {\n  /* unfitted */\n  background-color: var(--sklearn-color-fitted-level-0);\n}\n\n#sk-container-id-2 input.sk-toggleable__control:checked~div.sk-toggleable__content {\n  /* Expand drop-down */\n  max-height: 200px;\n  max-width: 100%;\n  overflow: auto;\n}\n\n#sk-container-id-2 input.sk-toggleable__control:checked~label.sk-toggleable__label-arrow:before {\n  content: \"▾\";\n}\n\n/* Pipeline/ColumnTransformer-specific style */\n\n#sk-container-id-2 div.sk-label input.sk-toggleable__control:checked~label.sk-toggleable__label {\n  color: var(--sklearn-color-text);\n  background-color: var(--sklearn-color-unfitted-level-2);\n}\n\n#sk-container-id-2 div.sk-label.fitted input.sk-toggleable__control:checked~label.sk-toggleable__label {\n  background-color: var(--sklearn-color-fitted-level-2);\n}\n\n/* Estimator-specific style */\n\n/* Colorize estimator box */\n#sk-container-id-2 div.sk-estimator input.sk-toggleable__control:checked~label.sk-toggleable__label {\n  /* unfitted */\n  background-color: var(--sklearn-color-unfitted-level-2);\n}\n\n#sk-container-id-2 div.sk-estimator.fitted input.sk-toggleable__control:checked~label.sk-toggleable__label {\n  /* fitted */\n  background-color: var(--sklearn-color-fitted-level-2);\n}\n\n#sk-container-id-2 div.sk-label label.sk-toggleable__label,\n#sk-container-id-2 div.sk-label label {\n  /* The background is the default theme color */\n  color: var(--sklearn-color-text-on-default-background);\n}\n\n/* On hover, darken the color of the background */\n#sk-container-id-2 div.sk-label:hover label.sk-toggleable__label {\n  color: var(--sklearn-color-text);\n  background-color: var(--sklearn-color-unfitted-level-2);\n}\n\n/* Label box, darken color on hover, fitted */\n#sk-container-id-2 div.sk-label.fitted:hover label.sk-toggleable__label.fitted {\n  color: var(--sklearn-color-text);\n  background-color: var(--sklearn-color-fitted-level-2);\n}\n\n/* Estimator label */\n\n#sk-container-id-2 div.sk-label label {\n  font-family: monospace;\n  font-weight: bold;\n  display: inline-block;\n  line-height: 1.2em;\n}\n\n#sk-container-id-2 div.sk-label-container {\n  text-align: center;\n}\n\n/* Estimator-specific */\n#sk-container-id-2 div.sk-estimator {\n  font-family: monospace;\n  border: 1px dotted var(--sklearn-color-border-box);\n  border-radius: 0.25em;\n  box-sizing: border-box;\n  margin-bottom: 0.5em;\n  /* unfitted */\n  background-color: var(--sklearn-color-unfitted-level-0);\n}\n\n#sk-container-id-2 div.sk-estimator.fitted {\n  /* fitted */\n  background-color: var(--sklearn-color-fitted-level-0);\n}\n\n/* on hover */\n#sk-container-id-2 div.sk-estimator:hover {\n  /* unfitted */\n  background-color: var(--sklearn-color-unfitted-level-2);\n}\n\n#sk-container-id-2 div.sk-estimator.fitted:hover {\n  /* fitted */\n  background-color: var(--sklearn-color-fitted-level-2);\n}\n\n/* Specification for estimator info (e.g. \"i\" and \"?\") */\n\n/* Common style for \"i\" and \"?\" */\n\n.sk-estimator-doc-link,\na:link.sk-estimator-doc-link,\na:visited.sk-estimator-doc-link {\n  float: right;\n  font-size: smaller;\n  line-height: 1em;\n  font-family: monospace;\n  background-color: var(--sklearn-color-background);\n  border-radius: 1em;\n  height: 1em;\n  width: 1em;\n  text-decoration: none !important;\n  margin-left: 0.5em;\n  text-align: center;\n  /* unfitted */\n  border: var(--sklearn-color-unfitted-level-1) 1pt solid;\n  color: var(--sklearn-color-unfitted-level-1);\n}\n\n.sk-estimator-doc-link.fitted,\na:link.sk-estimator-doc-link.fitted,\na:visited.sk-estimator-doc-link.fitted {\n  /* fitted */\n  border: var(--sklearn-color-fitted-level-1) 1pt solid;\n  color: var(--sklearn-color-fitted-level-1);\n}\n\n/* On hover */\ndiv.sk-estimator:hover .sk-estimator-doc-link:hover,\n.sk-estimator-doc-link:hover,\ndiv.sk-label-container:hover .sk-estimator-doc-link:hover,\n.sk-estimator-doc-link:hover {\n  /* unfitted */\n  background-color: var(--sklearn-color-unfitted-level-3);\n  color: var(--sklearn-color-background);\n  text-decoration: none;\n}\n\ndiv.sk-estimator.fitted:hover .sk-estimator-doc-link.fitted:hover,\n.sk-estimator-doc-link.fitted:hover,\ndiv.sk-label-container:hover .sk-estimator-doc-link.fitted:hover,\n.sk-estimator-doc-link.fitted:hover {\n  /* fitted */\n  background-color: var(--sklearn-color-fitted-level-3);\n  color: var(--sklearn-color-background);\n  text-decoration: none;\n}\n\n/* Span, style for the box shown on hovering the info icon */\n.sk-estimator-doc-link span {\n  display: none;\n  z-index: 9999;\n  position: relative;\n  font-weight: normal;\n  right: .2ex;\n  padding: .5ex;\n  margin: .5ex;\n  width: min-content;\n  min-width: 20ex;\n  max-width: 50ex;\n  color: var(--sklearn-color-text);\n  box-shadow: 2pt 2pt 4pt #999;\n  /* unfitted */\n  background: var(--sklearn-color-unfitted-level-0);\n  border: .5pt solid var(--sklearn-color-unfitted-level-3);\n}\n\n.sk-estimator-doc-link.fitted span {\n  /* fitted */\n  background: var(--sklearn-color-fitted-level-0);\n  border: var(--sklearn-color-fitted-level-3);\n}\n\n.sk-estimator-doc-link:hover span {\n  display: block;\n}\n\n/* \"?\"-specific style due to the `<a>` HTML tag */\n\n#sk-container-id-2 a.estimator_doc_link {\n  float: right;\n  font-size: 1rem;\n  line-height: 1em;\n  font-family: monospace;\n  background-color: var(--sklearn-color-background);\n  border-radius: 1rem;\n  height: 1rem;\n  width: 1rem;\n  text-decoration: none;\n  /* unfitted */\n  color: var(--sklearn-color-unfitted-level-1);\n  border: var(--sklearn-color-unfitted-level-1) 1pt solid;\n}\n\n#sk-container-id-2 a.estimator_doc_link.fitted {\n  /* fitted */\n  border: var(--sklearn-color-fitted-level-1) 1pt solid;\n  color: var(--sklearn-color-fitted-level-1);\n}\n\n/* On hover */\n#sk-container-id-2 a.estimator_doc_link:hover {\n  /* unfitted */\n  background-color: var(--sklearn-color-unfitted-level-3);\n  color: var(--sklearn-color-background);\n  text-decoration: none;\n}\n\n#sk-container-id-2 a.estimator_doc_link.fitted:hover {\n  /* fitted */\n  background-color: var(--sklearn-color-fitted-level-3);\n}\n</style><div id=\"sk-container-id-2\" class=\"sk-top-container\"><div class=\"sk-text-repr-fallback\"><pre>MultiOutputRegressor(estimator=RandomForestRegressor(random_state=42))</pre><b>In a Jupyter environment, please rerun this cell to show the HTML representation or trust the notebook. <br />On GitHub, the HTML representation is unable to render, please try loading this page with nbviewer.org.</b></div><div class=\"sk-container\" hidden><div class=\"sk-item sk-dashed-wrapped\"><div class=\"sk-label-container\"><div class=\"sk-label fitted sk-toggleable\"><input class=\"sk-toggleable__control sk-hidden--visually\" id=\"sk-estimator-id-4\" type=\"checkbox\" ><label for=\"sk-estimator-id-4\" class=\"sk-toggleable__label fitted sk-toggleable__label-arrow\"><div><div>MultiOutputRegressor</div></div><div><a class=\"sk-estimator-doc-link fitted\" rel=\"noreferrer\" target=\"_blank\" href=\"https://scikit-learn.org/1.6/modules/generated/sklearn.multioutput.MultiOutputRegressor.html\">?<span>Documentation for MultiOutputRegressor</span></a><span class=\"sk-estimator-doc-link fitted\">i<span>Fitted</span></span></div></label><div class=\"sk-toggleable__content fitted\"><pre>MultiOutputRegressor(estimator=RandomForestRegressor(random_state=42))</pre></div> </div></div><div class=\"sk-parallel\"><div class=\"sk-parallel-item\"><div class=\"sk-item\"><div class=\"sk-label-container\"><div class=\"sk-label fitted sk-toggleable\"><input class=\"sk-toggleable__control sk-hidden--visually\" id=\"sk-estimator-id-5\" type=\"checkbox\" ><label for=\"sk-estimator-id-5\" class=\"sk-toggleable__label fitted sk-toggleable__label-arrow\"><div><div>estimator: RandomForestRegressor</div></div></label><div class=\"sk-toggleable__content fitted\"><pre>RandomForestRegressor(random_state=42)</pre></div> </div></div><div class=\"sk-serial\"><div class=\"sk-item\"><div class=\"sk-estimator fitted sk-toggleable\"><input class=\"sk-toggleable__control sk-hidden--visually\" id=\"sk-estimator-id-6\" type=\"checkbox\" ><label for=\"sk-estimator-id-6\" class=\"sk-toggleable__label fitted sk-toggleable__label-arrow\"><div><div>RandomForestRegressor</div></div><div><a class=\"sk-estimator-doc-link fitted\" rel=\"noreferrer\" target=\"_blank\" href=\"https://scikit-learn.org/1.6/modules/generated/sklearn.ensemble.RandomForestRegressor.html\">?<span>Documentation for RandomForestRegressor</span></a></div></label><div class=\"sk-toggleable__content fitted\"><pre>RandomForestRegressor(random_state=42)</pre></div> </div></div></div></div></div></div></div></div></div>"
          },
          "metadata": {}
        }
      ],
      "execution_count": 43
    },
    {
      "id": "eafb9511-dd34-4db4-a2db-98f614fb0bcd",
      "cell_type": "code",
      "source": "y_pred=model.predict(X_test)",
      "metadata": {
        "trusted": true
      },
      "outputs": [],
      "execution_count": 44
    },
    {
      "id": "14ba1d46-249e-418d-9177-e062f0117583",
      "cell_type": "code",
      "source": "print(\"Model performance: \")\nfor i,pollutant in enumerate(pollutants):\n    print(f'{pollutant}')\n    print(' MSE:',mean_squared_error(y_test.iloc[:,i],y_pred[:,i]))\n    print(' R2:',r2_score(y_test.iloc[:,i],y_pred[:,i]))\n    print()",
      "metadata": {
        "trusted": true
      },
      "outputs": [
        {
          "name": "stdout",
          "output_type": "stream",
          "text": "Model performance: \nO2\n MSE: 22.21825046040189\n R2: -0.01674257045728833\n\nNO3\n MSE: 18.153106746365886\n R2: 0.5162032171220556\n\nNO2\n MSE: 10.607352172601502\n R2: -78.42066512350873\n\nSO4\n MSE: 2412.139350033052\n R2: 0.4118345603876148\n\nPO4\n MSE: 0.38496938017964155\n R2: 0.3221189891402043\n\nCL\n MSE: 34882.81433245622\n R2: 0.7357918194149974\n\n"
        }
      ],
      "execution_count": 45
    },
    {
      "id": "491a1cf5-cb75-42c7-a3c6-ac3c68b48075",
      "cell_type": "code",
      "source": "station_id = '28'\nyear_input = 2030\n\ninput_data = pd.DataFrame({'year': [year_input], 'id': [station_id]})\ninput_encoded = pd.get_dummies(input_data, columns=['id'])\n\n# Align with training feature columns\nmissing_cols = set(X_encoded.columns) - set(input_encoded.columns)\nfor col in missing_cols:\n    input_encoded[col] = 0\ninput_encoded = input_encoded[X_encoded.columns]  # reorder columns\n\n# Predict pollutants\npredicted_pollutants = model.predict(input_encoded)[0]\n\nprint(f\"\\nPredicted pollutant levels for station '{station_id}' in {year_input}:\")\nfor p, val in zip(pollutants, predicted_pollutants):\n    print(f\"  {p}: {val:.2f}\")",
      "metadata": {
        "trusted": true
      },
      "outputs": [
        {
          "name": "stdout",
          "output_type": "stream",
          "text": "\nPredicted pollutant levels for station '28' in 2030:\n  O2: 11.27\n  NO3: 6.90\n  NO2: 0.16\n  SO4: 361.03\n  PO4: 0.25\n  CL: 1436.95\n"
        }
      ],
      "execution_count": 46
    },
    {
      "id": "5f2654ef-649d-45c4-b99d-ca91d28f8b62",
      "cell_type": "code",
      "source": "sample_index = 10\nsample = df.iloc[sample_index]\n\n\nsafe = True\n\nif 'ph' in sample and not (6.5 <= sample['ph'] <= 8.5):\n    safe = False\nif 'Turbidity' in sample and sample['Turbidity'] > 5:\n    safe = False\nif 'Chloramines' in sample and sample['Chloramines'] > 4:\n    safe = False\nif 'Sulfate' in sample and sample['Sulfate'] > 250:\n    safe = False\nif 'Conductivity' in sample and sample['Conductivity'] > 2500:\n    safe = False\nif 'Organic_carbon' in sample and sample['Organic_carbon'] > 5:\n    safe = False\nprint(f\"\\nWater Quality at Index {sample_index} is:\")\nprint(\"✅ Drinkable\" if safe else \"❌ Not Drinkable\")",
      "metadata": {
        "trusted": true
      },
      "outputs": [
        {
          "name": "stdout",
          "output_type": "stream",
          "text": "\nWater Quality at Index 10 is:\n✅ Drinkable\n"
        }
      ],
      "execution_count": 47
    },
    {
      "id": "32c9fcee-009f-4d2c-8633-0f80622e56f2",
      "cell_type": "code",
      "source": "import joblib\n\njoblib.dump(model, 'pollution_model.pkl')\njoblib.dump(X_encoded.columns.tolist(), \"model_columns.pkl\")\nprint('Model and cols structure are saved!')",
      "metadata": {
        "trusted": true
      },
      "outputs": [],
      "execution_count": null
    },
    {
      "id": "3f1da3b3-06ca-4a66-a0a4-24213d2834fe",
      "cell_type": "code",
      "source": "",
      "metadata": {
        "trusted": true
      },
      "outputs": [],
      "execution_count": null
    }
  ]
}